{
 "cells": [
  {
   "cell_type": "markdown",
   "metadata": {
    "toc": true
   },
   "source": [
    "<h1>Содержание<span class=\"tocSkip\"></span></h1>\n",
    "<div class=\"toc\"><ul class=\"toc-item\"><li><span><a href=\"#Подготовка\" data-toc-modified-id=\"Подготовка-1\"><span class=\"toc-item-num\">1&nbsp;&nbsp;</span>Подготовка</a></span><ul class=\"toc-item\"><li><span><a href=\"#Импортируем-библиотеки\" data-toc-modified-id=\"Импортируем-библиотеки-1.1\"><span class=\"toc-item-num\">1.1&nbsp;&nbsp;</span>Импортируем библиотеки</a></span></li><li><span><a href=\"#Считаем-данные-из-файла-и-сохраним-их-в-переменную\" data-toc-modified-id=\"Считаем-данные-из-файла-и-сохраним-их-в-переменную-1.2\"><span class=\"toc-item-num\">1.2&nbsp;&nbsp;</span>Считаем данные из файла и сохраним их в переменную</a></span></li><li><span><a href=\"#Выведем-первые-5-и-последние-5-строк-датафрейма\" data-toc-modified-id=\"Выведем-первые-5-и-последние-5-строк-датафрейма-1.3\"><span class=\"toc-item-num\">1.3&nbsp;&nbsp;</span>Выведем первые 5 и последние 5 строк датафрейма</a></span></li><li><span><a href=\"#Выведем-основную-информацию-о-датафрейме-с-помощью-метода-info()\" data-toc-modified-id=\"Выведем-основную-информацию-о-датафрейме-с-помощью-метода-info()-1.4\"><span class=\"toc-item-num\">1.4&nbsp;&nbsp;</span>Выведем основную информацию о датафрейме с помощью метода info()</a></span></li><li><span><a href=\"#Проверим-ряд-на-монотонность\" data-toc-modified-id=\"Проверим-ряд-на-монотонность-1.5\"><span class=\"toc-item-num\">1.5&nbsp;&nbsp;</span>Проверим ряд на монотонность</a></span></li><li><span><a href=\"#Сделаем-ресемплирование-(изменение-интервала-со-значениями-ряда)\" data-toc-modified-id=\"Сделаем-ресемплирование-(изменение-интервала-со-значениями-ряда)-1.6\"><span class=\"toc-item-num\">1.6&nbsp;&nbsp;</span>Сделаем ресемплирование (изменение интервала со значениями ряда)</a></span></li><li><span><a href=\"#Снова-выведем-основную-информацию-о-датафрейме-с-помощью-метода-info()\" data-toc-modified-id=\"Снова-выведем-основную-информацию-о-датафрейме-с-помощью-метода-info()-1.7\"><span class=\"toc-item-num\">1.7&nbsp;&nbsp;</span>Снова выведем основную информацию о датафрейме с помощью метода info()</a></span></li></ul></li><li><span><a href=\"#Анализ\" data-toc-modified-id=\"Анализ-2\"><span class=\"toc-item-num\">2&nbsp;&nbsp;</span>Анализ</a></span><ul class=\"toc-item\"><li><span><a href=\"#Разложим-временной-ряд-на-3-составляющие:-тренд,-сезонность-и-остаток-декомпозиции-(шумы)\" data-toc-modified-id=\"Разложим-временной-ряд-на-3-составляющие:-тренд,-сезонность-и-остаток-декомпозиции-(шумы)-2.1\"><span class=\"toc-item-num\">2.1&nbsp;&nbsp;</span>Разложим временной ряд на 3 составляющие: тренд, сезонность и остаток декомпозиции (шумы)</a></span></li></ul></li><li><span><a href=\"#Обучение\" data-toc-modified-id=\"Обучение-3\"><span class=\"toc-item-num\">3&nbsp;&nbsp;</span>Обучение</a></span><ul class=\"toc-item\"><li><span><a href=\"#Создадим-новые-признаки-для-нашего-ряда\" data-toc-modified-id=\"Создадим-новые-признаки-для-нашего-ряда-3.1\"><span class=\"toc-item-num\">3.1&nbsp;&nbsp;</span>Создадим новые признаки для нашего ряда</a></span></li><li><span><a href=\"#Линейная-регрессия\" data-toc-modified-id=\"Линейная-регрессия-3.2\"><span class=\"toc-item-num\">3.2&nbsp;&nbsp;</span>Линейная регрессия</a></span></li><li><span><a href=\"#Случайный-лес\" data-toc-modified-id=\"Случайный-лес-3.3\"><span class=\"toc-item-num\">3.3&nbsp;&nbsp;</span>Случайный лес</a></span></li><li><span><a href=\"#CatBoostRegressor\" data-toc-modified-id=\"CatBoostRegressor-3.4\"><span class=\"toc-item-num\">3.4&nbsp;&nbsp;</span>CatBoostRegressor</a></span></li><li><span><a href=\"#LightGBM\" data-toc-modified-id=\"LightGBM-3.5\"><span class=\"toc-item-num\">3.5&nbsp;&nbsp;</span>LightGBM</a></span></li></ul></li><li><span><a href=\"#Тестирование\" data-toc-modified-id=\"Тестирование-4\"><span class=\"toc-item-num\">4&nbsp;&nbsp;</span>Тестирование</a></span></li></ul></div>"
   ]
  },
  {
   "cell_type": "markdown",
   "metadata": {},
   "source": [
    "#  Прогнозирование заказов такси"
   ]
  },
  {
   "cell_type": "markdown",
   "metadata": {},
   "source": [
    "Компания «Чётенькое такси» собрала исторические данные о заказах такси в аэропортах. Чтобы привлекать больше водителей в период пиковой нагрузки, нужно спрогнозировать количество заказов такси на следующий час. Постройте модель для такого предсказания.\n",
    "\n",
    "Значение метрики *RMSE* на тестовой выборке должно быть не больше 48.\n",
    "\n",
    "Вам нужно:\n",
    "\n",
    "1. Загрузить данные и выполнить их ресемплирование по одному часу.\n",
    "2. Проанализировать данные.\n",
    "3. Обучить разные модели с различными гиперпараметрами. Сделать тестовую выборку размером 10% от исходных данных.\n",
    "4. Проверить данные на тестовой выборке и сделать выводы.\n",
    "\n",
    "\n",
    "Данные лежат в файле `taxi.csv`. Количество заказов находится в столбце `num_orders` (от англ. *number of orders*, «число заказов»)."
   ]
  },
  {
   "cell_type": "markdown",
   "metadata": {},
   "source": [
    "## Подготовка"
   ]
  },
  {
   "cell_type": "markdown",
   "metadata": {},
   "source": [
    "### Импортируем библиотеки"
   ]
  },
  {
   "cell_type": "markdown",
   "metadata": {},
   "source": [
    "!pip3 install pandas-profiling==2.11\n",
    "!pip install catboost\n",
    "!pip install lightgbm"
   ]
  },
  {
   "cell_type": "markdown",
   "metadata": {},
   "source": [
    "!pip3 install -U scikit-learn==1.2.1"
   ]
  },
  {
   "cell_type": "code",
   "execution_count": 1,
   "metadata": {},
   "outputs": [
    {
     "name": "stderr",
     "output_type": "stream",
     "text": [
      "C:\\Users\\lexus\\anaconda3\\envs\\practicum\\lib\\site-packages\\scipy\\__init__.py:146: UserWarning: A NumPy version >=1.17.3 and <1.25.0 is required for this version of SciPy (detected version 1.26.1\n",
      "  warnings.warn(f\"A NumPy version >={np_minversion} and <{np_maxversion}\"\n"
     ]
    }
   ],
   "source": [
    "# импорты сторонних библиотек\n",
    "import numpy as np\n",
    "import pandas as pd\n",
    "import seaborn as sns\n",
    "import matplotlib.pyplot as plt\n",
    "import random\n",
    "import warnings\n",
    "import time\n",
    "\n",
    "# импорты модулей текущего проекта\n",
    "from statsmodels.tsa.seasonal import seasonal_decompose\n",
    "\n",
    "from sklearn.linear_model import LinearRegression\n",
    " \n",
    "from sklearn.ensemble import RandomForestRegressor\n",
    "\n",
    "from sklearn.metrics import (\n",
    "    mean_squared_error,\n",
    "    mean_absolute_error\n",
    ")\n",
    "\n",
    "from sklearn.model_selection import (\n",
    "    train_test_split,\n",
    "    GridSearchCV,\n",
    "    RandomizedSearchCV\n",
    ")\n",
    "\n",
    "#from pandas_profiling import ProfileReport\n",
    "\n",
    "from sklearn.preprocessing import (\n",
    "    OneHotEncoder,\n",
    "    OrdinalEncoder,\n",
    "    StandardScaler\n",
    ")\n",
    "from sklearn.pipeline import make_pipeline\n",
    "from sklearn.compose import make_column_transformer\n",
    "\n",
    "from catboost import Pool, CatBoostRegressor, cv\n",
    "from lightgbm import LGBMRegressor"
   ]
  },
  {
   "cell_type": "markdown",
   "metadata": {},
   "source": [
    "warnings.filterwarnings('ignore')"
   ]
  },
  {
   "cell_type": "markdown",
   "metadata": {},
   "source": [
    "### Считаем данные из файла и сохраним их в переменную"
   ]
  },
  {
   "cell_type": "code",
   "execution_count": 2,
   "metadata": {},
   "outputs": [],
   "source": [
    "try:\n",
    "    data = pd.read_csv('https://code.s3.yandex.net/datasets/taxi.csv', index_col=[0], parse_dates=[0])\n",
    "except:\n",
    "    data = pd.read_csv('D:/DS/Vremen/taxi.csv', index_col=[0], parse_dates=[0])\n"
   ]
  },
  {
   "cell_type": "markdown",
   "metadata": {},
   "source": [
    "### Выведем первые 5 и последние 5 строк датафрейма"
   ]
  },
  {
   "cell_type": "code",
   "execution_count": 3,
   "metadata": {},
   "outputs": [
    {
     "data": {
      "text/html": [
       "<div>\n",
       "<style scoped>\n",
       "    .dataframe tbody tr th:only-of-type {\n",
       "        vertical-align: middle;\n",
       "    }\n",
       "\n",
       "    .dataframe tbody tr th {\n",
       "        vertical-align: top;\n",
       "    }\n",
       "\n",
       "    .dataframe thead th {\n",
       "        text-align: right;\n",
       "    }\n",
       "</style>\n",
       "<table border=\"1\" class=\"dataframe\">\n",
       "  <thead>\n",
       "    <tr style=\"text-align: right;\">\n",
       "      <th></th>\n",
       "      <th>num_orders</th>\n",
       "    </tr>\n",
       "    <tr>\n",
       "      <th>datetime</th>\n",
       "      <th></th>\n",
       "    </tr>\n",
       "  </thead>\n",
       "  <tbody>\n",
       "    <tr>\n",
       "      <th>2018-03-01 00:00:00</th>\n",
       "      <td>9</td>\n",
       "    </tr>\n",
       "    <tr>\n",
       "      <th>2018-03-01 00:10:00</th>\n",
       "      <td>14</td>\n",
       "    </tr>\n",
       "    <tr>\n",
       "      <th>2018-03-01 00:20:00</th>\n",
       "      <td>28</td>\n",
       "    </tr>\n",
       "    <tr>\n",
       "      <th>2018-03-01 00:30:00</th>\n",
       "      <td>20</td>\n",
       "    </tr>\n",
       "    <tr>\n",
       "      <th>2018-03-01 00:40:00</th>\n",
       "      <td>32</td>\n",
       "    </tr>\n",
       "    <tr>\n",
       "      <th>...</th>\n",
       "      <td>...</td>\n",
       "    </tr>\n",
       "    <tr>\n",
       "      <th>2018-08-31 23:10:00</th>\n",
       "      <td>32</td>\n",
       "    </tr>\n",
       "    <tr>\n",
       "      <th>2018-08-31 23:20:00</th>\n",
       "      <td>24</td>\n",
       "    </tr>\n",
       "    <tr>\n",
       "      <th>2018-08-31 23:30:00</th>\n",
       "      <td>27</td>\n",
       "    </tr>\n",
       "    <tr>\n",
       "      <th>2018-08-31 23:40:00</th>\n",
       "      <td>39</td>\n",
       "    </tr>\n",
       "    <tr>\n",
       "      <th>2018-08-31 23:50:00</th>\n",
       "      <td>53</td>\n",
       "    </tr>\n",
       "  </tbody>\n",
       "</table>\n",
       "<p>26496 rows × 1 columns</p>\n",
       "</div>"
      ],
      "text/plain": [
       "                     num_orders\n",
       "datetime                       \n",
       "2018-03-01 00:00:00           9\n",
       "2018-03-01 00:10:00          14\n",
       "2018-03-01 00:20:00          28\n",
       "2018-03-01 00:30:00          20\n",
       "2018-03-01 00:40:00          32\n",
       "...                         ...\n",
       "2018-08-31 23:10:00          32\n",
       "2018-08-31 23:20:00          24\n",
       "2018-08-31 23:30:00          27\n",
       "2018-08-31 23:40:00          39\n",
       "2018-08-31 23:50:00          53\n",
       "\n",
       "[26496 rows x 1 columns]"
      ]
     },
     "execution_count": 3,
     "metadata": {},
     "output_type": "execute_result"
    }
   ],
   "source": [
    "data"
   ]
  },
  {
   "cell_type": "markdown",
   "metadata": {},
   "source": [
    "Наши данные представляют из себя временной ряд. Временной ряд (англ. time series) — это последовательность чисел на оси времени."
   ]
  },
  {
   "cell_type": "markdown",
   "metadata": {},
   "source": [
    "### Выведем основную информацию о датафрейме с помощью метода info()"
   ]
  },
  {
   "cell_type": "code",
   "execution_count": 4,
   "metadata": {},
   "outputs": [
    {
     "name": "stdout",
     "output_type": "stream",
     "text": [
      "<class 'pandas.core.frame.DataFrame'>\n",
      "DatetimeIndex: 26496 entries, 2018-03-01 00:00:00 to 2018-08-31 23:50:00\n",
      "Data columns (total 1 columns):\n",
      " #   Column      Non-Null Count  Dtype\n",
      "---  ------      --------------  -----\n",
      " 0   num_orders  26496 non-null  int64\n",
      "dtypes: int64(1)\n",
      "memory usage: 414.0 KB\n",
      "None\n"
     ]
    }
   ],
   "source": [
    "print(data.info())"
   ]
  },
  {
   "cell_type": "markdown",
   "metadata": {},
   "source": [
    "### Проверим ряд на монотонность"
   ]
  },
  {
   "cell_type": "code",
   "execution_count": 5,
   "metadata": {},
   "outputs": [
    {
     "data": {
      "text/plain": [
       "True"
      ]
     },
     "execution_count": 5,
     "metadata": {},
     "output_type": "execute_result"
    }
   ],
   "source": [
    "data.index.is_monotonic"
   ]
  },
  {
   "cell_type": "markdown",
   "metadata": {},
   "source": [
    "Данные в таблице монотонны, т.е. даты и время расположены в хронологическом порядке. Значит, сортировка индекса не нужна."
   ]
  },
  {
   "cell_type": "markdown",
   "metadata": {},
   "source": [
    "### Сделаем ресемплирование (изменение интервала со значениями ряда) \n",
    "Установим интервал в 1 час"
   ]
  },
  {
   "cell_type": "code",
   "execution_count": 6,
   "metadata": {},
   "outputs": [],
   "source": [
    "data = data.resample('1H').sum()"
   ]
  },
  {
   "cell_type": "code",
   "execution_count": 7,
   "metadata": {},
   "outputs": [
    {
     "data": {
      "text/html": [
       "<div>\n",
       "<style scoped>\n",
       "    .dataframe tbody tr th:only-of-type {\n",
       "        vertical-align: middle;\n",
       "    }\n",
       "\n",
       "    .dataframe tbody tr th {\n",
       "        vertical-align: top;\n",
       "    }\n",
       "\n",
       "    .dataframe thead th {\n",
       "        text-align: right;\n",
       "    }\n",
       "</style>\n",
       "<table border=\"1\" class=\"dataframe\">\n",
       "  <thead>\n",
       "    <tr style=\"text-align: right;\">\n",
       "      <th></th>\n",
       "      <th>num_orders</th>\n",
       "    </tr>\n",
       "    <tr>\n",
       "      <th>datetime</th>\n",
       "      <th></th>\n",
       "    </tr>\n",
       "  </thead>\n",
       "  <tbody>\n",
       "    <tr>\n",
       "      <th>2018-03-01 00:00:00</th>\n",
       "      <td>124</td>\n",
       "    </tr>\n",
       "    <tr>\n",
       "      <th>2018-03-01 01:00:00</th>\n",
       "      <td>85</td>\n",
       "    </tr>\n",
       "    <tr>\n",
       "      <th>2018-03-01 02:00:00</th>\n",
       "      <td>71</td>\n",
       "    </tr>\n",
       "    <tr>\n",
       "      <th>2018-03-01 03:00:00</th>\n",
       "      <td>66</td>\n",
       "    </tr>\n",
       "    <tr>\n",
       "      <th>2018-03-01 04:00:00</th>\n",
       "      <td>43</td>\n",
       "    </tr>\n",
       "    <tr>\n",
       "      <th>...</th>\n",
       "      <td>...</td>\n",
       "    </tr>\n",
       "    <tr>\n",
       "      <th>2018-08-31 19:00:00</th>\n",
       "      <td>136</td>\n",
       "    </tr>\n",
       "    <tr>\n",
       "      <th>2018-08-31 20:00:00</th>\n",
       "      <td>154</td>\n",
       "    </tr>\n",
       "    <tr>\n",
       "      <th>2018-08-31 21:00:00</th>\n",
       "      <td>159</td>\n",
       "    </tr>\n",
       "    <tr>\n",
       "      <th>2018-08-31 22:00:00</th>\n",
       "      <td>223</td>\n",
       "    </tr>\n",
       "    <tr>\n",
       "      <th>2018-08-31 23:00:00</th>\n",
       "      <td>205</td>\n",
       "    </tr>\n",
       "  </tbody>\n",
       "</table>\n",
       "<p>4416 rows × 1 columns</p>\n",
       "</div>"
      ],
      "text/plain": [
       "                     num_orders\n",
       "datetime                       \n",
       "2018-03-01 00:00:00         124\n",
       "2018-03-01 01:00:00          85\n",
       "2018-03-01 02:00:00          71\n",
       "2018-03-01 03:00:00          66\n",
       "2018-03-01 04:00:00          43\n",
       "...                         ...\n",
       "2018-08-31 19:00:00         136\n",
       "2018-08-31 20:00:00         154\n",
       "2018-08-31 21:00:00         159\n",
       "2018-08-31 22:00:00         223\n",
       "2018-08-31 23:00:00         205\n",
       "\n",
       "[4416 rows x 1 columns]"
      ]
     },
     "execution_count": 7,
     "metadata": {},
     "output_type": "execute_result"
    }
   ],
   "source": [
    "data"
   ]
  },
  {
   "cell_type": "markdown",
   "metadata": {},
   "source": [
    "### Снова выведем основную информацию о датафрейме с помощью метода info()"
   ]
  },
  {
   "cell_type": "code",
   "execution_count": 8,
   "metadata": {},
   "outputs": [
    {
     "name": "stdout",
     "output_type": "stream",
     "text": [
      "<class 'pandas.core.frame.DataFrame'>\n",
      "DatetimeIndex: 4416 entries, 2018-03-01 00:00:00 to 2018-08-31 23:00:00\n",
      "Freq: H\n",
      "Data columns (total 1 columns):\n",
      " #   Column      Non-Null Count  Dtype\n",
      "---  ------      --------------  -----\n",
      " 0   num_orders  4416 non-null   int64\n",
      "dtypes: int64(1)\n",
      "memory usage: 69.0 KB\n",
      "None\n"
     ]
    }
   ],
   "source": [
    "print(data.info())"
   ]
  },
  {
   "cell_type": "markdown",
   "metadata": {},
   "source": [
    "Видим, что количество записей в таблице уменьшилось (со 26496 до 4416). Что вполне логично, т.к. мы \"сгруппировали\" записи по часам."
   ]
  },
  {
   "cell_type": "markdown",
   "metadata": {},
   "source": [
    "На данном этапе мы провели подготовку данных: ознакомились и изучили их, изменили тип данных, установили дату в качестве индекса, проверили ряд на монотонность, провели ресемплирование временного ряда."
   ]
  },
  {
   "cell_type": "markdown",
   "metadata": {},
   "source": [
    "## Анализ"
   ]
  },
  {
   "cell_type": "markdown",
   "metadata": {},
   "source": [
    "### Разложим временной ряд на 3 составляющие: тренд, сезонность и остаток декомпозиции (шумы)"
   ]
  },
  {
   "cell_type": "code",
   "execution_count": 9,
   "metadata": {},
   "outputs": [],
   "source": [
    "decomposed = seasonal_decompose(data['num_orders'])"
   ]
  },
  {
   "cell_type": "markdown",
   "metadata": {},
   "source": [
    "Тренд (англ. trend) — плавное изменение среднего значения ряда без повторяющихся закономерностей.\n",
    "\n",
    "Сезонность (англ. seasonality) — циклично повторяющиеся закономерности во временном ряду.\n",
    "\n",
    "Шум или остаток (англ. residuals) - компонента, которая не объясняется трендом и сезонностью."
   ]
  },
  {
   "cell_type": "markdown",
   "metadata": {},
   "source": [
    "Построим графики этих составляющих ряда:"
   ]
  },
  {
   "cell_type": "code",
   "execution_count": 10,
   "metadata": {},
   "outputs": [
    {
     "data": {
      "image/png": "[encoded data removed]",
      "text/plain": [
       "<Figure size 600x800 with 3 Axes>"
      ]
     },
     "metadata": {},
     "output_type": "display_data"
    }
   ],
   "source": [
    "plt.figure(figsize=(6, 8))\n",
    "\n",
    "# Чтобы график корректно отобразился, указываем его оси ax, \n",
    "# равными plt.gca() (англ. get current axis, получить текущие оси)\n",
    "plt.subplot(311)\n",
    "decomposed.trend.plot(ax=plt.gca())\n",
    "plt.title('Trend')\n",
    "\n",
    "plt.subplot(312)\n",
    "decomposed.seasonal.plot(ax=plt.gca()) \n",
    "plt.title('Seasonality')\n",
    "\n",
    "plt.subplot(313)\n",
    "decomposed.resid.plot(ax=plt.gca()) \n",
    "plt.title('Residuals')\n",
    "\n",
    "plt.tight_layout()\n",
    "plt.show()"
   ]
  },
  {
   "cell_type": "markdown",
   "metadata": {},
   "source": [
    "По первому графику видно, что с марта наблюдается тренд увеличения количества заказов такси, причем, в августе он выражен ярче по сравнению с другими месяцами (кривая более крутая).\n",
    "\n",
    "График сезонности рассмотрим в разрезе недели (по дням недели) и по часам."
   ]
  },
  {
   "cell_type": "code",
   "execution_count": 11,
   "metadata": {},
   "outputs": [
    {
     "data": {
      "image/png": "[encoded data removed]",
      "text/plain": [
       "<Figure size 600x800 with 1 Axes>"
      ]
     },
     "metadata": {},
     "output_type": "display_data"
    }
   ],
   "source": [
    "plt.figure(figsize=(6, 8))\n",
    "\n",
    "plt.subplot(312)\n",
    "decomposed.seasonal['2018-03-01':'2018-03-07'].plot() #ax=plt.gca()) \n",
    "plt.title('Seasonality per day')\n",
    "\n",
    "plt.tight_layout()\n",
    "plt.show()"
   ]
  },
  {
   "cell_type": "code",
   "execution_count": 12,
   "metadata": {},
   "outputs": [
    {
     "data": {
      "image/png": "[encoded data removed]",
      "text/plain": [
       "<Figure size 600x800 with 1 Axes>"
      ]
     },
     "metadata": {},
     "output_type": "display_data"
    }
   ],
   "source": [
    "plt.figure(figsize=(6, 8))\n",
    "\n",
    "plt.subplot(312)\n",
    "decomposed.seasonal['2018-03-01':'2018-03-01'].plot(grid=True) #ax=plt.gca()) \n",
    "plt.title('Seasonality per hour')\n",
    "\n",
    "plt.tight_layout()\n",
    "plt.show()"
   ]
  },
  {
   "cell_type": "markdown",
   "metadata": {},
   "source": [
    "По графикам видно, что изо дня в день наблюдается следующие закономерности: пик заказов приходится на 00:00, 16:00, 10:00, а минимум - на 6 утра. Возможно, это как-то связано с графиком работы общественного транспорта.\n",
    "\n",
    "Таким образом, мы выяснили, что с марта наблюдается тренд увеличения количества заказов такси, причем, в августе он выражен ярче по сравнению с другими месяцами, а в изменении спроса на такси в течение дня наблюдаются закономерности: пики - в полночь, 10 и 16 часов, а минимум - в 6 утра."
   ]
  },
  {
   "cell_type": "markdown",
   "metadata": {},
   "source": [
    "## Обучение"
   ]
  },
  {
   "cell_type": "markdown",
   "metadata": {},
   "source": [
    "Задача прогнозирования временного ряда состоит в построении модели, которая по историческим данным предскажет будущие значения временного ряда. \n",
    "\n",
    "Создадим признаки для горизонта прогнозирования (горизонт прогнозирования - промежуток времени в будущем, на который строится прогноз)."
   ]
  },
  {
   "cell_type": "markdown",
   "metadata": {},
   "source": [
    "### Создадим новые признаки для нашего ряда"
   ]
  },
  {
   "cell_type": "markdown",
   "metadata": {},
   "source": [
    "- Календарные признаки (месяц, день, день недели) \n",
    "- Отстающие значения (предыдущие значения временного ряда подскажут, будет ли искомая величина расти или уменьшаться)\n",
    "- Скользящее среднее (как признак задаёт общий тренд временного ряда)"
   ]
  },
  {
   "cell_type": "code",
   "execution_count": 13,
   "metadata": {},
   "outputs": [],
   "source": [
    "def make_features(data, max_lag, rolling_mean_size):\n",
    "    #data['year'] = data.index.year\n",
    "    data['month'] = data.index.month\n",
    "    data['day'] = data.index.day\n",
    "    data['dayofweek'] = data.index.dayofweek\n",
    "    \n",
    "    for lag in range(1, max_lag + 1):\n",
    "        data['lag_{}'.format(lag)] = data['num_orders'].shift(lag)\n",
    "\n",
    "    data['rolling_mean'] = data['num_orders'].shift().rolling(rolling_mean_size).mean()"
   ]
  },
  {
   "cell_type": "markdown",
   "metadata": {},
   "source": [
    "Т.к. в наших данных есть дневная сезонность, то ширину окна скользящего среднего можно взять = 24 (часа)"
   ]
  },
  {
   "cell_type": "code",
   "execution_count": 14,
   "metadata": {},
   "outputs": [],
   "source": [
    "make_features(data, 24, 24)"
   ]
  },
  {
   "cell_type": "code",
   "execution_count": 15,
   "metadata": {},
   "outputs": [
    {
     "data": {
      "text/html": [
       "<div>\n",
       "<style scoped>\n",
       "    .dataframe tbody tr th:only-of-type {\n",
       "        vertical-align: middle;\n",
       "    }\n",
       "\n",
       "    .dataframe tbody tr th {\n",
       "        vertical-align: top;\n",
       "    }\n",
       "\n",
       "    .dataframe thead th {\n",
       "        text-align: right;\n",
       "    }\n",
       "</style>\n",
       "<table border=\"1\" class=\"dataframe\">\n",
       "  <thead>\n",
       "    <tr style=\"text-align: right;\">\n",
       "      <th></th>\n",
       "      <th>num_orders</th>\n",
       "      <th>month</th>\n",
       "      <th>day</th>\n",
       "      <th>dayofweek</th>\n",
       "      <th>lag_1</th>\n",
       "      <th>lag_2</th>\n",
       "      <th>lag_3</th>\n",
       "      <th>lag_4</th>\n",
       "      <th>lag_5</th>\n",
       "      <th>lag_6</th>\n",
       "      <th>...</th>\n",
       "      <th>lag_16</th>\n",
       "      <th>lag_17</th>\n",
       "      <th>lag_18</th>\n",
       "      <th>lag_19</th>\n",
       "      <th>lag_20</th>\n",
       "      <th>lag_21</th>\n",
       "      <th>lag_22</th>\n",
       "      <th>lag_23</th>\n",
       "      <th>lag_24</th>\n",
       "      <th>rolling_mean</th>\n",
       "    </tr>\n",
       "    <tr>\n",
       "      <th>datetime</th>\n",
       "      <th></th>\n",
       "      <th></th>\n",
       "      <th></th>\n",
       "      <th></th>\n",
       "      <th></th>\n",
       "      <th></th>\n",
       "      <th></th>\n",
       "      <th></th>\n",
       "      <th></th>\n",
       "      <th></th>\n",
       "      <th></th>\n",
       "      <th></th>\n",
       "      <th></th>\n",
       "      <th></th>\n",
       "      <th></th>\n",
       "      <th></th>\n",
       "      <th></th>\n",
       "      <th></th>\n",
       "      <th></th>\n",
       "      <th></th>\n",
       "      <th></th>\n",
       "    </tr>\n",
       "  </thead>\n",
       "  <tbody>\n",
       "    <tr>\n",
       "      <th>2018-03-01 00:00:00</th>\n",
       "      <td>124</td>\n",
       "      <td>3</td>\n",
       "      <td>1</td>\n",
       "      <td>3</td>\n",
       "      <td>NaN</td>\n",
       "      <td>NaN</td>\n",
       "      <td>NaN</td>\n",
       "      <td>NaN</td>\n",
       "      <td>NaN</td>\n",
       "      <td>NaN</td>\n",
       "      <td>...</td>\n",
       "      <td>NaN</td>\n",
       "      <td>NaN</td>\n",
       "      <td>NaN</td>\n",
       "      <td>NaN</td>\n",
       "      <td>NaN</td>\n",
       "      <td>NaN</td>\n",
       "      <td>NaN</td>\n",
       "      <td>NaN</td>\n",
       "      <td>NaN</td>\n",
       "      <td>NaN</td>\n",
       "    </tr>\n",
       "    <tr>\n",
       "      <th>2018-03-01 01:00:00</th>\n",
       "      <td>85</td>\n",
       "      <td>3</td>\n",
       "      <td>1</td>\n",
       "      <td>3</td>\n",
       "      <td>124.0</td>\n",
       "      <td>NaN</td>\n",
       "      <td>NaN</td>\n",
       "      <td>NaN</td>\n",
       "      <td>NaN</td>\n",
       "      <td>NaN</td>\n",
       "      <td>...</td>\n",
       "      <td>NaN</td>\n",
       "      <td>NaN</td>\n",
       "      <td>NaN</td>\n",
       "      <td>NaN</td>\n",
       "      <td>NaN</td>\n",
       "      <td>NaN</td>\n",
       "      <td>NaN</td>\n",
       "      <td>NaN</td>\n",
       "      <td>NaN</td>\n",
       "      <td>NaN</td>\n",
       "    </tr>\n",
       "    <tr>\n",
       "      <th>2018-03-01 02:00:00</th>\n",
       "      <td>71</td>\n",
       "      <td>3</td>\n",
       "      <td>1</td>\n",
       "      <td>3</td>\n",
       "      <td>85.0</td>\n",
       "      <td>124.0</td>\n",
       "      <td>NaN</td>\n",
       "      <td>NaN</td>\n",
       "      <td>NaN</td>\n",
       "      <td>NaN</td>\n",
       "      <td>...</td>\n",
       "      <td>NaN</td>\n",
       "      <td>NaN</td>\n",
       "      <td>NaN</td>\n",
       "      <td>NaN</td>\n",
       "      <td>NaN</td>\n",
       "      <td>NaN</td>\n",
       "      <td>NaN</td>\n",
       "      <td>NaN</td>\n",
       "      <td>NaN</td>\n",
       "      <td>NaN</td>\n",
       "    </tr>\n",
       "    <tr>\n",
       "      <th>2018-03-01 03:00:00</th>\n",
       "      <td>66</td>\n",
       "      <td>3</td>\n",
       "      <td>1</td>\n",
       "      <td>3</td>\n",
       "      <td>71.0</td>\n",
       "      <td>85.0</td>\n",
       "      <td>124.0</td>\n",
       "      <td>NaN</td>\n",
       "      <td>NaN</td>\n",
       "      <td>NaN</td>\n",
       "      <td>...</td>\n",
       "      <td>NaN</td>\n",
       "      <td>NaN</td>\n",
       "      <td>NaN</td>\n",
       "      <td>NaN</td>\n",
       "      <td>NaN</td>\n",
       "      <td>NaN</td>\n",
       "      <td>NaN</td>\n",
       "      <td>NaN</td>\n",
       "      <td>NaN</td>\n",
       "      <td>NaN</td>\n",
       "    </tr>\n",
       "    <tr>\n",
       "      <th>2018-03-01 04:00:00</th>\n",
       "      <td>43</td>\n",
       "      <td>3</td>\n",
       "      <td>1</td>\n",
       "      <td>3</td>\n",
       "      <td>66.0</td>\n",
       "      <td>71.0</td>\n",
       "      <td>85.0</td>\n",
       "      <td>124.0</td>\n",
       "      <td>NaN</td>\n",
       "      <td>NaN</td>\n",
       "      <td>...</td>\n",
       "      <td>NaN</td>\n",
       "      <td>NaN</td>\n",
       "      <td>NaN</td>\n",
       "      <td>NaN</td>\n",
       "      <td>NaN</td>\n",
       "      <td>NaN</td>\n",
       "      <td>NaN</td>\n",
       "      <td>NaN</td>\n",
       "      <td>NaN</td>\n",
       "      <td>NaN</td>\n",
       "    </tr>\n",
       "    <tr>\n",
       "      <th>2018-03-01 05:00:00</th>\n",
       "      <td>6</td>\n",
       "      <td>3</td>\n",
       "      <td>1</td>\n",
       "      <td>3</td>\n",
       "      <td>43.0</td>\n",
       "      <td>66.0</td>\n",
       "      <td>71.0</td>\n",
       "      <td>85.0</td>\n",
       "      <td>124.0</td>\n",
       "      <td>NaN</td>\n",
       "      <td>...</td>\n",
       "      <td>NaN</td>\n",
       "      <td>NaN</td>\n",
       "      <td>NaN</td>\n",
       "      <td>NaN</td>\n",
       "      <td>NaN</td>\n",
       "      <td>NaN</td>\n",
       "      <td>NaN</td>\n",
       "      <td>NaN</td>\n",
       "      <td>NaN</td>\n",
       "      <td>NaN</td>\n",
       "    </tr>\n",
       "    <tr>\n",
       "      <th>2018-03-01 06:00:00</th>\n",
       "      <td>12</td>\n",
       "      <td>3</td>\n",
       "      <td>1</td>\n",
       "      <td>3</td>\n",
       "      <td>6.0</td>\n",
       "      <td>43.0</td>\n",
       "      <td>66.0</td>\n",
       "      <td>71.0</td>\n",
       "      <td>85.0</td>\n",
       "      <td>124.0</td>\n",
       "      <td>...</td>\n",
       "      <td>NaN</td>\n",
       "      <td>NaN</td>\n",
       "      <td>NaN</td>\n",
       "      <td>NaN</td>\n",
       "      <td>NaN</td>\n",
       "      <td>NaN</td>\n",
       "      <td>NaN</td>\n",
       "      <td>NaN</td>\n",
       "      <td>NaN</td>\n",
       "      <td>NaN</td>\n",
       "    </tr>\n",
       "    <tr>\n",
       "      <th>2018-03-01 07:00:00</th>\n",
       "      <td>15</td>\n",
       "      <td>3</td>\n",
       "      <td>1</td>\n",
       "      <td>3</td>\n",
       "      <td>12.0</td>\n",
       "      <td>6.0</td>\n",
       "      <td>43.0</td>\n",
       "      <td>66.0</td>\n",
       "      <td>71.0</td>\n",
       "      <td>85.0</td>\n",
       "      <td>...</td>\n",
       "      <td>NaN</td>\n",
       "      <td>NaN</td>\n",
       "      <td>NaN</td>\n",
       "      <td>NaN</td>\n",
       "      <td>NaN</td>\n",
       "      <td>NaN</td>\n",
       "      <td>NaN</td>\n",
       "      <td>NaN</td>\n",
       "      <td>NaN</td>\n",
       "      <td>NaN</td>\n",
       "    </tr>\n",
       "    <tr>\n",
       "      <th>2018-03-01 08:00:00</th>\n",
       "      <td>34</td>\n",
       "      <td>3</td>\n",
       "      <td>1</td>\n",
       "      <td>3</td>\n",
       "      <td>15.0</td>\n",
       "      <td>12.0</td>\n",
       "      <td>6.0</td>\n",
       "      <td>43.0</td>\n",
       "      <td>66.0</td>\n",
       "      <td>71.0</td>\n",
       "      <td>...</td>\n",
       "      <td>NaN</td>\n",
       "      <td>NaN</td>\n",
       "      <td>NaN</td>\n",
       "      <td>NaN</td>\n",
       "      <td>NaN</td>\n",
       "      <td>NaN</td>\n",
       "      <td>NaN</td>\n",
       "      <td>NaN</td>\n",
       "      <td>NaN</td>\n",
       "      <td>NaN</td>\n",
       "    </tr>\n",
       "    <tr>\n",
       "      <th>2018-03-01 09:00:00</th>\n",
       "      <td>69</td>\n",
       "      <td>3</td>\n",
       "      <td>1</td>\n",
       "      <td>3</td>\n",
       "      <td>34.0</td>\n",
       "      <td>15.0</td>\n",
       "      <td>12.0</td>\n",
       "      <td>6.0</td>\n",
       "      <td>43.0</td>\n",
       "      <td>66.0</td>\n",
       "      <td>...</td>\n",
       "      <td>NaN</td>\n",
       "      <td>NaN</td>\n",
       "      <td>NaN</td>\n",
       "      <td>NaN</td>\n",
       "      <td>NaN</td>\n",
       "      <td>NaN</td>\n",
       "      <td>NaN</td>\n",
       "      <td>NaN</td>\n",
       "      <td>NaN</td>\n",
       "      <td>NaN</td>\n",
       "    </tr>\n",
       "  </tbody>\n",
       "</table>\n",
       "<p>10 rows × 29 columns</p>\n",
       "</div>"
      ],
      "text/plain": [
       "                     num_orders  month  day  dayofweek  lag_1  lag_2  lag_3  \\\n",
       "datetime                                                                      \n",
       "2018-03-01 00:00:00         124      3    1          3    NaN    NaN    NaN   \n",
       "2018-03-01 01:00:00          85      3    1          3  124.0    NaN    NaN   \n",
       "2018-03-01 02:00:00          71      3    1          3   85.0  124.0    NaN   \n",
       "2018-03-01 03:00:00          66      3    1          3   71.0   85.0  124.0   \n",
       "2018-03-01 04:00:00          43      3    1          3   66.0   71.0   85.0   \n",
       "2018-03-01 05:00:00           6      3    1          3   43.0   66.0   71.0   \n",
       "2018-03-01 06:00:00          12      3    1          3    6.0   43.0   66.0   \n",
       "2018-03-01 07:00:00          15      3    1          3   12.0    6.0   43.0   \n",
       "2018-03-01 08:00:00          34      3    1          3   15.0   12.0    6.0   \n",
       "2018-03-01 09:00:00          69      3    1          3   34.0   15.0   12.0   \n",
       "\n",
       "                     lag_4  lag_5  lag_6  ...  lag_16  lag_17  lag_18  lag_19  \\\n",
       "datetime                                  ...                                   \n",
       "2018-03-01 00:00:00    NaN    NaN    NaN  ...     NaN     NaN     NaN     NaN   \n",
       "2018-03-01 01:00:00    NaN    NaN    NaN  ...     NaN     NaN     NaN     NaN   \n",
       "2018-03-01 02:00:00    NaN    NaN    NaN  ...     NaN     NaN     NaN     NaN   \n",
       "2018-03-01 03:00:00    NaN    NaN    NaN  ...     NaN     NaN     NaN     NaN   \n",
       "2018-03-01 04:00:00  124.0    NaN    NaN  ...     NaN     NaN     NaN     NaN   \n",
       "2018-03-01 05:00:00   85.0  124.0    NaN  ...     NaN     NaN     NaN     NaN   \n",
       "2018-03-01 06:00:00   71.0   85.0  124.0  ...     NaN     NaN     NaN     NaN   \n",
       "2018-03-01 07:00:00   66.0   71.0   85.0  ...     NaN     NaN     NaN     NaN   \n",
       "2018-03-01 08:00:00   43.0   66.0   71.0  ...     NaN     NaN     NaN     NaN   \n",
       "2018-03-01 09:00:00    6.0   43.0   66.0  ...     NaN     NaN     NaN     NaN   \n",
       "\n",
       "                     lag_20  lag_21  lag_22  lag_23  lag_24  rolling_mean  \n",
       "datetime                                                                   \n",
       "2018-03-01 00:00:00     NaN     NaN     NaN     NaN     NaN           NaN  \n",
       "2018-03-01 01:00:00     NaN     NaN     NaN     NaN     NaN           NaN  \n",
       "2018-03-01 02:00:00     NaN     NaN     NaN     NaN     NaN           NaN  \n",
       "2018-03-01 03:00:00     NaN     NaN     NaN     NaN     NaN           NaN  \n",
       "2018-03-01 04:00:00     NaN     NaN     NaN     NaN     NaN           NaN  \n",
       "2018-03-01 05:00:00     NaN     NaN     NaN     NaN     NaN           NaN  \n",
       "2018-03-01 06:00:00     NaN     NaN     NaN     NaN     NaN           NaN  \n",
       "2018-03-01 07:00:00     NaN     NaN     NaN     NaN     NaN           NaN  \n",
       "2018-03-01 08:00:00     NaN     NaN     NaN     NaN     NaN           NaN  \n",
       "2018-03-01 09:00:00     NaN     NaN     NaN     NaN     NaN           NaN  \n",
       "\n",
       "[10 rows x 29 columns]"
      ]
     },
     "execution_count": 15,
     "metadata": {},
     "output_type": "execute_result"
    }
   ],
   "source": [
    "data.head(10)"
   ]
  },
  {
   "cell_type": "code",
   "execution_count": 16,
   "metadata": {},
   "outputs": [
    {
     "name": "stdout",
     "output_type": "stream",
     "text": [
      "<class 'pandas.core.frame.DataFrame'>\n",
      "DatetimeIndex: 4416 entries, 2018-03-01 00:00:00 to 2018-08-31 23:00:00\n",
      "Freq: H\n",
      "Data columns (total 29 columns):\n",
      " #   Column        Non-Null Count  Dtype  \n",
      "---  ------        --------------  -----  \n",
      " 0   num_orders    4416 non-null   int64  \n",
      " 1   month         4416 non-null   int64  \n",
      " 2   day           4416 non-null   int64  \n",
      " 3   dayofweek     4416 non-null   int64  \n",
      " 4   lag_1         4415 non-null   float64\n",
      " 5   lag_2         4414 non-null   float64\n",
      " 6   lag_3         4413 non-null   float64\n",
      " 7   lag_4         4412 non-null   float64\n",
      " 8   lag_5         4411 non-null   float64\n",
      " 9   lag_6         4410 non-null   float64\n",
      " 10  lag_7         4409 non-null   float64\n",
      " 11  lag_8         4408 non-null   float64\n",
      " 12  lag_9         4407 non-null   float64\n",
      " 13  lag_10        4406 non-null   float64\n",
      " 14  lag_11        4405 non-null   float64\n",
      " 15  lag_12        4404 non-null   float64\n",
      " 16  lag_13        4403 non-null   float64\n",
      " 17  lag_14        4402 non-null   float64\n",
      " 18  lag_15        4401 non-null   float64\n",
      " 19  lag_16        4400 non-null   float64\n",
      " 20  lag_17        4399 non-null   float64\n",
      " 21  lag_18        4398 non-null   float64\n",
      " 22  lag_19        4397 non-null   float64\n",
      " 23  lag_20        4396 non-null   float64\n",
      " 24  lag_21        4395 non-null   float64\n",
      " 25  lag_22        4394 non-null   float64\n",
      " 26  lag_23        4393 non-null   float64\n",
      " 27  lag_24        4392 non-null   float64\n",
      " 28  rolling_mean  4392 non-null   float64\n",
      "dtypes: float64(25), int64(4)\n",
      "memory usage: 1.0 MB\n"
     ]
    }
   ],
   "source": [
    "data.info()"
   ]
  },
  {
   "cell_type": "markdown",
   "metadata": {},
   "source": [
    "Видим, что в таблице появилось много пропусков. Это связано с тем, что получить признаки для первых записей нельзя: исторических данных по ним нет. Их нужно будет удалить."
   ]
  },
  {
   "cell_type": "code",
   "execution_count": 17,
   "metadata": {},
   "outputs": [],
   "source": [
    "data = data.dropna()"
   ]
  },
  {
   "cell_type": "code",
   "execution_count": 18,
   "metadata": {},
   "outputs": [
    {
     "name": "stdout",
     "output_type": "stream",
     "text": [
      "<class 'pandas.core.frame.DataFrame'>\n",
      "DatetimeIndex: 4392 entries, 2018-03-02 00:00:00 to 2018-08-31 23:00:00\n",
      "Freq: H\n",
      "Data columns (total 29 columns):\n",
      " #   Column        Non-Null Count  Dtype  \n",
      "---  ------        --------------  -----  \n",
      " 0   num_orders    4392 non-null   int64  \n",
      " 1   month         4392 non-null   int64  \n",
      " 2   day           4392 non-null   int64  \n",
      " 3   dayofweek     4392 non-null   int64  \n",
      " 4   lag_1         4392 non-null   float64\n",
      " 5   lag_2         4392 non-null   float64\n",
      " 6   lag_3         4392 non-null   float64\n",
      " 7   lag_4         4392 non-null   float64\n",
      " 8   lag_5         4392 non-null   float64\n",
      " 9   lag_6         4392 non-null   float64\n",
      " 10  lag_7         4392 non-null   float64\n",
      " 11  lag_8         4392 non-null   float64\n",
      " 12  lag_9         4392 non-null   float64\n",
      " 13  lag_10        4392 non-null   float64\n",
      " 14  lag_11        4392 non-null   float64\n",
      " 15  lag_12        4392 non-null   float64\n",
      " 16  lag_13        4392 non-null   float64\n",
      " 17  lag_14        4392 non-null   float64\n",
      " 18  lag_15        4392 non-null   float64\n",
      " 19  lag_16        4392 non-null   float64\n",
      " 20  lag_17        4392 non-null   float64\n",
      " 21  lag_18        4392 non-null   float64\n",
      " 22  lag_19        4392 non-null   float64\n",
      " 23  lag_20        4392 non-null   float64\n",
      " 24  lag_21        4392 non-null   float64\n",
      " 25  lag_22        4392 non-null   float64\n",
      " 26  lag_23        4392 non-null   float64\n",
      " 27  lag_24        4392 non-null   float64\n",
      " 28  rolling_mean  4392 non-null   float64\n",
      "dtypes: float64(25), int64(4)\n",
      "memory usage: 1.0 MB\n"
     ]
    }
   ],
   "source": [
    "data.info()"
   ]
  },
  {
   "cell_type": "markdown",
   "metadata": {},
   "source": [
    "Теперь пропусков нет. \n",
    "\n",
    "Разделим данные на обучающую и тестовую выборки (10:1). "
   ]
  },
  {
   "cell_type": "code",
   "execution_count": 19,
   "metadata": {},
   "outputs": [
    {
     "name": "stdout",
     "output_type": "stream",
     "text": [
      "(3952, 28)\n",
      "(440, 28)\n"
     ]
    }
   ],
   "source": [
    "features = data.drop(['num_orders'], axis=1)\n",
    "target = data['num_orders']\n",
    "\n",
    "features_train, features_test, target_train, target_test = train_test_split(features, target, \n",
    "                                                                            shuffle=False, \n",
    "                                                                            test_size=0.1,\n",
    "                                                                            random_state=12345)\n",
    "print(features_train.shape)\n",
    "print(features_test.shape)"
   ]
  },
  {
   "cell_type": "code",
   "execution_count": 20,
   "metadata": {},
   "outputs": [
    {
     "name": "stdout",
     "output_type": "stream",
     "text": [
      "['lag_1', 'lag_2', 'lag_3', 'lag_4', 'lag_5', 'lag_6', 'lag_7', 'lag_8', 'lag_9', 'lag_10', 'lag_11', 'lag_12', 'lag_13', 'lag_14', 'lag_15', 'lag_16', 'lag_17', 'lag_18', 'lag_19', 'lag_20', 'lag_21', 'lag_22', 'lag_23', 'lag_24', 'rolling_mean']\n",
      "['month', 'day', 'dayofweek']\n"
     ]
    }
   ],
   "source": [
    "# перечислим количественные признаки\n",
    "num_features = features_train.filter(like='lag_').columns.to_list() + ['rolling_mean']\n",
    "print(num_features)\n",
    "\n",
    "# перечислим качественные признаки\n",
    "cat_features = features_train.select_dtypes(include='int64').columns.to_list()\n",
    "print(cat_features)"
   ]
  },
  {
   "cell_type": "markdown",
   "metadata": {},
   "source": [
    "Подготовим датасет, в котором будем хранить информацию о характеристиках модели, времени обучении и предсказания, значение метрики."
   ]
  },
  {
   "cell_type": "code",
   "execution_count": 21,
   "metadata": {},
   "outputs": [],
   "source": [
    "columns = ['name', 'rmse']\n",
    "models_data = pd.DataFrame(columns=columns)"
   ]
  },
  {
   "cell_type": "markdown",
   "metadata": {},
   "source": [
    "### Линейная регрессия"
   ]
  },
  {
   "cell_type": "code",
   "execution_count": 22,
   "metadata": {},
   "outputs": [],
   "source": [
    "# признаки для ЛР сохраним в отдельные переменные\n",
    "features_train_lr, features_test_lr = features_train.copy(), features_test.copy()\n",
    "target_train_lr, target_test_lr = target_train.copy(), target_test.copy()"
   ]
  },
  {
   "cell_type": "code",
   "execution_count": 23,
   "metadata": {},
   "outputs": [],
   "source": [
    "# для ЛР дополнительно выделим валидационную выборку\n",
    "features_train_lr, features_valid_lr, target_train_lr, target_valid_lr = train_test_split(features_train_lr, \n",
    "                                                                              target_train_lr, \n",
    "                                                                              shuffle=False,\n",
    "                                                                              test_size=0.1, \n",
    "                                                                              random_state=12345)"
   ]
  },
  {
   "cell_type": "code",
   "execution_count": 24,
   "metadata": {},
   "outputs": [],
   "source": [
    "# отмасштабируем признаки\n",
    "scaler = StandardScaler()\n",
    "features_train_lr = scaler.fit_transform(features_train_lr[num_features])\n",
    "\n",
    "features_valid_lr = scaler.transform(features_valid_lr[num_features])\n",
    "\n",
    "features_test_lr = scaler.transform(features_test_lr[num_features])"
   ]
  },
  {
   "cell_type": "code",
   "execution_count": 25,
   "metadata": {},
   "outputs": [
    {
     "name": "stdout",
     "output_type": "stream",
     "text": [
      "RMSE = 34.34278016133421\n"
     ]
    }
   ],
   "source": [
    "model_lr = LinearRegression() # создание модели\n",
    "\n",
    "model_lr.fit(features_train_lr, target_train_lr) # обучение модели\n",
    "\n",
    "predict_lr = model_lr.predict(features_valid_lr) # предсказание модели\n",
    "\n",
    "rmse = mean_squared_error(target_valid_lr, predict_lr)**0.5\n",
    "print('RMSE =', rmse)"
   ]
  },
  {
   "cell_type": "code",
   "execution_count": 26,
   "metadata": {},
   "outputs": [],
   "source": [
    "# запишем данные в специальную таблицу\n",
    "models_data.loc[len(models_data.index )] = [model_lr, rmse]"
   ]
  },
  {
   "cell_type": "markdown",
   "metadata": {},
   "source": [
    "### Случайный лес"
   ]
  },
  {
   "cell_type": "code",
   "execution_count": 27,
   "metadata": {},
   "outputs": [],
   "source": [
    "# признаки для СЛ сохраним в отдельные переменные\n",
    "features_train_rf, features_test_rf = features_train.copy(), features_test.copy()\n",
    "target_train_rf, target_test_rf = target_train.copy(), target_test.copy()"
   ]
  },
  {
   "cell_type": "code",
   "execution_count": 28,
   "metadata": {},
   "outputs": [],
   "source": [
    "model_rf = RandomForestRegressor(random_state=12345)\n",
    "scaler = StandardScaler()\n",
    "\n",
    "pipeline_rf = make_pipeline(scaler, model_rf)\n",
    "\n",
    "param_grid_rf = {\n",
    "    'randomforestregressor__n_estimators': [50, 100, 200, 300], #range(10, 251, 10), \n",
    "    'randomforestregressor__max_depth': [5, 7, 10] #range(2, 5),\n",
    "}   \n",
    "\n",
    "    #'randomforestregressor__min_samples_split': (2, 3, 4),\n",
    "    #'randomforestregressor__min_samples_leaf': (1, 2, 3, 4)\n",
    "\n",
    "# получается достаточно много комбинаций гиперпараметров при переборе\n",
    "# будем использовать RandomizedSearchCV, он работает намного быстрее\n",
    "rscv_rf = RandomizedSearchCV(\n",
    "    pipeline_rf, \n",
    "    param_distributions=param_grid_rf, \n",
    "    scoring='neg_root_mean_squared_error', \n",
    "    n_jobs=-1, \n",
    "    random_state=12345\n",
    ")"
   ]
  },
  {
   "cell_type": "code",
   "execution_count": 29,
   "metadata": {},
   "outputs": [
    {
     "name": "stdout",
     "output_type": "stream",
     "text": [
      "лучшее значение RMSE на обуч.выборке: 24.765784379796774\n",
      "лучшие гиперпараметры: {'randomforestregressor__n_estimators': 300, 'randomforestregressor__max_depth': 10}\n",
      "CPU times: total: 9.08 s\n",
      "Wall time: 31 s\n"
     ]
    }
   ],
   "source": [
    "%%time\n",
    "\n",
    "rscv_rf.fit(features_train_rf, target_train_rf) #обучили лучшую модель на всем трэйне\n",
    "\n",
    "gs_rf_best_score = rscv_rf.best_score_ * -1\n",
    "gs_rf_best_params = rscv_rf.best_params_\n",
    "print(f'лучшее значение RMSE на обуч.выборке: {gs_rf_best_score}')\n",
    "print(f'лучшие гиперпараметры: {gs_rf_best_params}')"
   ]
  },
  {
   "cell_type": "code",
   "execution_count": 30,
   "metadata": {
    "scrolled": true
   },
   "outputs": [
    {
     "data": {
      "text/html": [
       "<div>\n",
       "<style scoped>\n",
       "    .dataframe tbody tr th:only-of-type {\n",
       "        vertical-align: middle;\n",
       "    }\n",
       "\n",
       "    .dataframe tbody tr th {\n",
       "        vertical-align: top;\n",
       "    }\n",
       "\n",
       "    .dataframe thead th {\n",
       "        text-align: right;\n",
       "    }\n",
       "</style>\n",
       "<table border=\"1\" class=\"dataframe\">\n",
       "  <thead>\n",
       "    <tr style=\"text-align: right;\">\n",
       "      <th></th>\n",
       "      <th>name</th>\n",
       "      <th>rmse</th>\n",
       "    </tr>\n",
       "  </thead>\n",
       "  <tbody>\n",
       "    <tr>\n",
       "      <th>0</th>\n",
       "      <td>LinearRegression()</td>\n",
       "      <td>34.342780</td>\n",
       "    </tr>\n",
       "    <tr>\n",
       "      <th>1</th>\n",
       "      <td>(DecisionTreeRegressor(max_depth=10, max_featu...</td>\n",
       "      <td>24.765784</td>\n",
       "    </tr>\n",
       "  </tbody>\n",
       "</table>\n",
       "</div>"
      ],
      "text/plain": [
       "                                                name       rmse\n",
       "0                                 LinearRegression()  34.342780\n",
       "1  (DecisionTreeRegressor(max_depth=10, max_featu...  24.765784"
      ]
     },
     "execution_count": 30,
     "metadata": {},
     "output_type": "execute_result"
    }
   ],
   "source": [
    "# запишем данные в специальную таблицу\n",
    "models_data.loc[len(models_data.index )] = ([rscv_rf.best_estimator_ ['randomforestregressor'], \n",
    "                                             gs_rf_best_score])\n",
    "models_data"
   ]
  },
  {
   "cell_type": "markdown",
   "metadata": {},
   "source": [
    "### CatBoostRegressor"
   ]
  },
  {
   "cell_type": "code",
   "execution_count": 31,
   "metadata": {},
   "outputs": [
    {
     "name": "stdout",
     "output_type": "stream",
     "text": [
      "CPU times: total: 0 ns\n",
      "Wall time: 0 ns\n"
     ]
    }
   ],
   "source": [
    "%%time\n",
    "catboost = CatBoostRegressor() #loss_function='RMSE')\n",
    "\n",
    "parameters_cat = {'depth': [5, 7, 10], \n",
    "                  'learning_rate': [0.01, 0.05], \n",
    "                  #'l2_leaf_reg': [1],\n",
    "                  'iterations': [100, 200, 300]} \n",
    "\n",
    "catboost_grid = GridSearchCV(catboost, \n",
    "                             parameters_cat, \n",
    "                             scoring=\"neg_root_mean_squared_error\", \n",
    "                             cv = 4,\n",
    "                             verbose=100,\n",
    "                             n_jobs=-1)"
   ]
  },
  {
   "cell_type": "code",
   "execution_count": 32,
   "metadata": {},
   "outputs": [
    {
     "name": "stdout",
     "output_type": "stream",
     "text": [
      "Fitting 4 folds for each of 18 candidates, totalling 72 fits\n",
      "0:\tlearn: 37.8071891\ttotal: 65ms\tremaining: 19.4s\n",
      "1:\tlearn: 36.9836392\ttotal: 75.7ms\tremaining: 11.3s\n",
      "2:\tlearn: 36.2311795\ttotal: 86.2ms\tremaining: 8.53s\n",
      "3:\tlearn: 35.5219250\ttotal: 91ms\tremaining: 6.73s\n",
      "4:\tlearn: 34.7959845\ttotal: 95.9ms\tremaining: 5.66s\n",
      "5:\tlearn: 34.1290375\ttotal: 101ms\tremaining: 4.93s\n",
      "6:\tlearn: 33.4806699\ttotal: 106ms\tremaining: 4.42s\n",
      "7:\tlearn: 32.9184667\ttotal: 110ms\tremaining: 4.03s\n",
      "8:\tlearn: 32.3982242\ttotal: 115ms\tremaining: 3.73s\n",
      "9:\tlearn: 31.8476490\ttotal: 119ms\tremaining: 3.45s\n",
      "10:\tlearn: 31.3526511\ttotal: 122ms\tremaining: 3.22s\n",
      "11:\tlearn: 30.9204552\ttotal: 126ms\tremaining: 3.02s\n",
      "12:\tlearn: 30.4719508\ttotal: 129ms\tremaining: 2.86s\n",
      "13:\tlearn: 30.0473856\ttotal: 133ms\tremaining: 2.72s\n",
      "14:\tlearn: 29.6639915\ttotal: 137ms\tremaining: 2.6s\n",
      "15:\tlearn: 29.3217137\ttotal: 140ms\tremaining: 2.49s\n",
      "16:\tlearn: 28.9777740\ttotal: 144ms\tremaining: 2.4s\n",
      "17:\tlearn: 28.6502012\ttotal: 147ms\tremaining: 2.31s\n",
      "18:\tlearn: 28.3660108\ttotal: 151ms\tremaining: 2.23s\n",
      "19:\tlearn: 28.0877208\ttotal: 155ms\tremaining: 2.16s\n",
      "20:\tlearn: 27.8375542\ttotal: 158ms\tremaining: 2.1s\n",
      "21:\tlearn: 27.5442658\ttotal: 162ms\tremaining: 2.04s\n",
      "22:\tlearn: 27.2998667\ttotal: 166ms\tremaining: 2s\n",
      "23:\tlearn: 27.0891033\ttotal: 170ms\tremaining: 1.96s\n",
      "24:\tlearn: 26.8809264\ttotal: 174ms\tremaining: 1.91s\n",
      "25:\tlearn: 26.6851511\ttotal: 178ms\tremaining: 1.87s\n",
      "26:\tlearn: 26.4883469\ttotal: 181ms\tremaining: 1.83s\n",
      "27:\tlearn: 26.2955178\ttotal: 185ms\tremaining: 1.79s\n",
      "28:\tlearn: 26.1134539\ttotal: 188ms\tremaining: 1.76s\n",
      "29:\tlearn: 25.9466075\ttotal: 192ms\tremaining: 1.73s\n",
      "30:\tlearn: 25.7547135\ttotal: 196ms\tremaining: 1.7s\n",
      "31:\tlearn: 25.5922270\ttotal: 199ms\tremaining: 1.67s\n",
      "32:\tlearn: 25.4528365\ttotal: 203ms\tremaining: 1.64s\n",
      "33:\tlearn: 25.3023807\ttotal: 206ms\tremaining: 1.61s\n",
      "34:\tlearn: 25.1641292\ttotal: 210ms\tremaining: 1.59s\n",
      "35:\tlearn: 25.0328492\ttotal: 214ms\tremaining: 1.56s\n",
      "36:\tlearn: 24.9155352\ttotal: 217ms\tremaining: 1.54s\n",
      "37:\tlearn: 24.8099270\ttotal: 221ms\tremaining: 1.52s\n",
      "38:\tlearn: 24.6895898\ttotal: 224ms\tremaining: 1.5s\n",
      "39:\tlearn: 24.5714580\ttotal: 228ms\tremaining: 1.48s\n",
      "40:\tlearn: 24.4684432\ttotal: 231ms\tremaining: 1.46s\n",
      "41:\tlearn: 24.3639232\ttotal: 235ms\tremaining: 1.44s\n",
      "42:\tlearn: 24.2510089\ttotal: 238ms\tremaining: 1.42s\n",
      "43:\tlearn: 24.1390101\ttotal: 242ms\tremaining: 1.41s\n",
      "44:\tlearn: 24.0529839\ttotal: 245ms\tremaining: 1.39s\n",
      "45:\tlearn: 23.9750922\ttotal: 249ms\tremaining: 1.37s\n",
      "46:\tlearn: 23.8857693\ttotal: 252ms\tremaining: 1.36s\n",
      "47:\tlearn: 23.7961507\ttotal: 256ms\tremaining: 1.34s\n",
      "48:\tlearn: 23.7189028\ttotal: 260ms\tremaining: 1.33s\n",
      "49:\tlearn: 23.6550339\ttotal: 264ms\tremaining: 1.32s\n",
      "50:\tlearn: 23.5873147\ttotal: 268ms\tremaining: 1.31s\n",
      "51:\tlearn: 23.5127061\ttotal: 272ms\tremaining: 1.3s\n",
      "52:\tlearn: 23.4369029\ttotal: 276ms\tremaining: 1.29s\n",
      "53:\tlearn: 23.3757688\ttotal: 280ms\tremaining: 1.27s\n",
      "54:\tlearn: 23.3073021\ttotal: 283ms\tremaining: 1.26s\n",
      "55:\tlearn: 23.2454956\ttotal: 287ms\tremaining: 1.25s\n",
      "56:\tlearn: 23.1906313\ttotal: 291ms\tremaining: 1.24s\n",
      "57:\tlearn: 23.1348324\ttotal: 294ms\tremaining: 1.23s\n",
      "58:\tlearn: 23.1236924\ttotal: 298ms\tremaining: 1.22s\n",
      "59:\tlearn: 23.0962737\ttotal: 301ms\tremaining: 1.21s\n",
      "60:\tlearn: 23.0547105\ttotal: 305ms\tremaining: 1.2s\n",
      "61:\tlearn: 22.9879059\ttotal: 309ms\tremaining: 1.18s\n",
      "62:\tlearn: 22.9341291\ttotal: 312ms\tremaining: 1.17s\n",
      "63:\tlearn: 22.8819977\ttotal: 316ms\tremaining: 1.16s\n",
      "64:\tlearn: 22.8476815\ttotal: 320ms\tremaining: 1.16s\n",
      "65:\tlearn: 22.7995666\ttotal: 323ms\tremaining: 1.15s\n",
      "66:\tlearn: 22.7441839\ttotal: 327ms\tremaining: 1.14s\n",
      "67:\tlearn: 22.7001774\ttotal: 331ms\tremaining: 1.13s\n",
      "68:\tlearn: 22.6463774\ttotal: 334ms\tremaining: 1.12s\n",
      "69:\tlearn: 22.6144396\ttotal: 338ms\tremaining: 1.11s\n",
      "70:\tlearn: 22.5622977\ttotal: 341ms\tremaining: 1.1s\n",
      "71:\tlearn: 22.4974347\ttotal: 345ms\tremaining: 1.09s\n",
      "72:\tlearn: 22.4701941\ttotal: 349ms\tremaining: 1.08s\n",
      "73:\tlearn: 22.4406224\ttotal: 352ms\tremaining: 1.07s\n",
      "74:\tlearn: 22.3923585\ttotal: 355ms\tremaining: 1.07s\n",
      "75:\tlearn: 22.3567538\ttotal: 359ms\tremaining: 1.06s\n",
      "76:\tlearn: 22.3137103\ttotal: 362ms\tremaining: 1.05s\n",
      "77:\tlearn: 22.3019254\ttotal: 366ms\tremaining: 1.04s\n",
      "78:\tlearn: 22.2952765\ttotal: 369ms\tremaining: 1.03s\n",
      "79:\tlearn: 22.2624921\ttotal: 373ms\tremaining: 1.02s\n",
      "80:\tlearn: 22.2256368\ttotal: 377ms\tremaining: 1.02s\n",
      "81:\tlearn: 22.2105448\ttotal: 380ms\tremaining: 1.01s\n",
      "82:\tlearn: 22.1590976\ttotal: 384ms\tremaining: 1s\n",
      "83:\tlearn: 22.1280746\ttotal: 387ms\tremaining: 996ms\n",
      "84:\tlearn: 22.0717335\ttotal: 391ms\tremaining: 989ms\n",
      "85:\tlearn: 22.0479481\ttotal: 394ms\tremaining: 981ms\n",
      "86:\tlearn: 22.0285506\ttotal: 398ms\tremaining: 974ms\n",
      "87:\tlearn: 22.0123471\ttotal: 402ms\tremaining: 967ms\n",
      "88:\tlearn: 21.9921245\ttotal: 405ms\tremaining: 960ms\n",
      "89:\tlearn: 21.9594781\ttotal: 409ms\tremaining: 954ms\n",
      "90:\tlearn: 21.9247226\ttotal: 412ms\tremaining: 947ms\n",
      "91:\tlearn: 21.9106301\ttotal: 416ms\tremaining: 940ms\n",
      "92:\tlearn: 21.8790598\ttotal: 419ms\tremaining: 933ms\n",
      "93:\tlearn: 21.8689855\ttotal: 423ms\tremaining: 927ms\n",
      "94:\tlearn: 21.8349151\ttotal: 426ms\tremaining: 920ms\n",
      "95:\tlearn: 21.8042447\ttotal: 430ms\tremaining: 913ms\n",
      "96:\tlearn: 21.7584530\ttotal: 433ms\tremaining: 907ms\n",
      "97:\tlearn: 21.7181459\ttotal: 437ms\tremaining: 901ms\n",
      "98:\tlearn: 21.7069271\ttotal: 440ms\tremaining: 894ms\n",
      "99:\tlearn: 21.6836391\ttotal: 444ms\tremaining: 887ms\n",
      "100:\tlearn: 21.6529072\ttotal: 447ms\tremaining: 881ms\n",
      "101:\tlearn: 21.6188004\ttotal: 451ms\tremaining: 875ms\n",
      "102:\tlearn: 21.5967863\ttotal: 454ms\tremaining: 869ms\n",
      "103:\tlearn: 21.5504949\ttotal: 458ms\tremaining: 864ms\n",
      "104:\tlearn: 21.5275014\ttotal: 462ms\tremaining: 859ms\n",
      "105:\tlearn: 21.5190560\ttotal: 466ms\tremaining: 854ms\n",
      "106:\tlearn: 21.4925321\ttotal: 470ms\tremaining: 848ms\n",
      "107:\tlearn: 21.4625207\ttotal: 474ms\tremaining: 843ms\n",
      "108:\tlearn: 21.4349614\ttotal: 478ms\tremaining: 837ms\n",
      "109:\tlearn: 21.4163969\ttotal: 481ms\tremaining: 831ms\n",
      "110:\tlearn: 21.3857505\ttotal: 485ms\tremaining: 825ms\n",
      "111:\tlearn: 21.3664066\ttotal: 488ms\tremaining: 820ms\n",
      "112:\tlearn: 21.3412580\ttotal: 492ms\tremaining: 814ms\n",
      "113:\tlearn: 21.3060840\ttotal: 495ms\tremaining: 808ms\n",
      "114:\tlearn: 21.2754752\ttotal: 499ms\tremaining: 802ms\n",
      "115:\tlearn: 21.2447157\ttotal: 502ms\tremaining: 797ms\n",
      "116:\tlearn: 21.2201989\ttotal: 506ms\tremaining: 791ms\n",
      "117:\tlearn: 21.2023168\ttotal: 509ms\tremaining: 786ms\n",
      "118:\tlearn: 21.1711427\ttotal: 513ms\tremaining: 780ms\n",
      "119:\tlearn: 21.1220323\ttotal: 516ms\tremaining: 775ms\n",
      "120:\tlearn: 21.0970082\ttotal: 520ms\tremaining: 769ms\n",
      "121:\tlearn: 21.0889579\ttotal: 523ms\tremaining: 764ms\n",
      "122:\tlearn: 21.0568634\ttotal: 527ms\tremaining: 759ms\n",
      "123:\tlearn: 21.0363243\ttotal: 531ms\tremaining: 754ms\n",
      "124:\tlearn: 21.0131361\ttotal: 535ms\tremaining: 749ms\n",
      "125:\tlearn: 20.9767335\ttotal: 538ms\tremaining: 743ms\n",
      "126:\tlearn: 20.9520435\ttotal: 542ms\tremaining: 738ms\n",
      "127:\tlearn: 20.9162277\ttotal: 545ms\tremaining: 733ms\n",
      "128:\tlearn: 20.9055529\ttotal: 549ms\tremaining: 727ms\n",
      "129:\tlearn: 20.8572453\ttotal: 552ms\tremaining: 722ms\n",
      "130:\tlearn: 20.8469015\ttotal: 556ms\tremaining: 717ms\n",
      "131:\tlearn: 20.8256068\ttotal: 559ms\tremaining: 712ms\n",
      "132:\tlearn: 20.8086857\ttotal: 563ms\tremaining: 707ms\n",
      "133:\tlearn: 20.7707796\ttotal: 566ms\tremaining: 702ms\n",
      "134:\tlearn: 20.7542482\ttotal: 570ms\tremaining: 697ms\n",
      "135:\tlearn: 20.7239397\ttotal: 573ms\tremaining: 691ms\n",
      "136:\tlearn: 20.7148065\ttotal: 577ms\tremaining: 686ms\n",
      "137:\tlearn: 20.6919472\ttotal: 580ms\tremaining: 681ms\n",
      "138:\tlearn: 20.6666613\ttotal: 584ms\tremaining: 676ms\n",
      "139:\tlearn: 20.6303344\ttotal: 588ms\tremaining: 671ms\n",
      "140:\tlearn: 20.6242671\ttotal: 591ms\tremaining: 666ms\n",
      "141:\tlearn: 20.6061892\ttotal: 595ms\tremaining: 662ms\n",
      "142:\tlearn: 20.5768835\ttotal: 598ms\tremaining: 657ms\n",
      "143:\tlearn: 20.5589481\ttotal: 602ms\tremaining: 652ms\n",
      "144:\tlearn: 20.5486657\ttotal: 605ms\tremaining: 647ms\n",
      "145:\tlearn: 20.5262725\ttotal: 609ms\tremaining: 642ms\n",
      "146:\tlearn: 20.4907165\ttotal: 612ms\tremaining: 637ms\n",
      "147:\tlearn: 20.4633188\ttotal: 616ms\tremaining: 632ms\n",
      "148:\tlearn: 20.4552429\ttotal: 620ms\tremaining: 628ms\n",
      "149:\tlearn: 20.4503171\ttotal: 623ms\tremaining: 623ms\n",
      "150:\tlearn: 20.4228436\ttotal: 627ms\tremaining: 619ms\n",
      "151:\tlearn: 20.4127018\ttotal: 631ms\tremaining: 614ms\n",
      "152:\tlearn: 20.3725463\ttotal: 634ms\tremaining: 609ms\n",
      "153:\tlearn: 20.3596450\ttotal: 638ms\tremaining: 604ms\n",
      "154:\tlearn: 20.3492896\ttotal: 641ms\tremaining: 600ms\n",
      "155:\tlearn: 20.3103801\ttotal: 645ms\tremaining: 595ms\n"
     ]
    },
    {
     "name": "stdout",
     "output_type": "stream",
     "text": [
      "156:\tlearn: 20.3085543\ttotal: 648ms\tremaining: 591ms\n",
      "157:\tlearn: 20.3019651\ttotal: 653ms\tremaining: 587ms\n",
      "158:\tlearn: 20.2706345\ttotal: 657ms\tremaining: 582ms\n",
      "159:\tlearn: 20.2570030\ttotal: 660ms\tremaining: 578ms\n",
      "160:\tlearn: 20.2349527\ttotal: 665ms\tremaining: 574ms\n",
      "161:\tlearn: 20.2251228\ttotal: 669ms\tremaining: 570ms\n",
      "162:\tlearn: 20.2112095\ttotal: 673ms\tremaining: 565ms\n",
      "163:\tlearn: 20.1939861\ttotal: 677ms\tremaining: 561ms\n",
      "164:\tlearn: 20.1768314\ttotal: 681ms\tremaining: 557ms\n",
      "165:\tlearn: 20.1473582\ttotal: 684ms\tremaining: 553ms\n",
      "166:\tlearn: 20.1093368\ttotal: 688ms\tremaining: 548ms\n",
      "167:\tlearn: 20.1078616\ttotal: 692ms\tremaining: 544ms\n",
      "168:\tlearn: 20.0725630\ttotal: 696ms\tremaining: 539ms\n",
      "169:\tlearn: 20.0488694\ttotal: 700ms\tremaining: 535ms\n",
      "170:\tlearn: 20.0317175\ttotal: 703ms\tremaining: 530ms\n",
      "171:\tlearn: 20.0284587\ttotal: 707ms\tremaining: 526ms\n",
      "172:\tlearn: 19.9972363\ttotal: 711ms\tremaining: 522ms\n",
      "173:\tlearn: 19.9747954\ttotal: 714ms\tremaining: 517ms\n",
      "174:\tlearn: 19.9392653\ttotal: 718ms\tremaining: 513ms\n",
      "175:\tlearn: 19.9049639\ttotal: 721ms\tremaining: 508ms\n",
      "176:\tlearn: 19.8931358\ttotal: 725ms\tremaining: 504ms\n",
      "177:\tlearn: 19.8555823\ttotal: 728ms\tremaining: 499ms\n",
      "178:\tlearn: 19.8302635\ttotal: 732ms\tremaining: 495ms\n",
      "179:\tlearn: 19.7944399\ttotal: 736ms\tremaining: 490ms\n",
      "180:\tlearn: 19.7605784\ttotal: 739ms\tremaining: 486ms\n",
      "181:\tlearn: 19.7553103\ttotal: 743ms\tremaining: 481ms\n",
      "182:\tlearn: 19.7535557\ttotal: 746ms\tremaining: 477ms\n",
      "183:\tlearn: 19.7255909\ttotal: 750ms\tremaining: 473ms\n",
      "184:\tlearn: 19.6922575\ttotal: 754ms\tremaining: 469ms\n",
      "185:\tlearn: 19.6618859\ttotal: 757ms\tremaining: 464ms\n",
      "186:\tlearn: 19.6507402\ttotal: 761ms\tremaining: 460ms\n",
      "187:\tlearn: 19.6153657\ttotal: 765ms\tremaining: 456ms\n",
      "188:\tlearn: 19.5989811\ttotal: 769ms\tremaining: 451ms\n",
      "189:\tlearn: 19.5820312\ttotal: 773ms\tremaining: 447ms\n",
      "190:\tlearn: 19.5415526\ttotal: 776ms\tremaining: 443ms\n",
      "191:\tlearn: 19.5264089\ttotal: 780ms\tremaining: 439ms\n",
      "192:\tlearn: 19.5242929\ttotal: 783ms\tremaining: 434ms\n",
      "193:\tlearn: 19.5013600\ttotal: 787ms\tremaining: 430ms\n",
      "194:\tlearn: 19.4600947\ttotal: 791ms\tremaining: 426ms\n",
      "195:\tlearn: 19.4243963\ttotal: 794ms\tremaining: 421ms\n",
      "196:\tlearn: 19.4053147\ttotal: 798ms\tremaining: 417ms\n",
      "197:\tlearn: 19.3778557\ttotal: 801ms\tremaining: 413ms\n",
      "198:\tlearn: 19.3474168\ttotal: 805ms\tremaining: 408ms\n",
      "199:\tlearn: 19.3250464\ttotal: 808ms\tremaining: 404ms\n",
      "200:\tlearn: 19.3212452\ttotal: 812ms\tremaining: 400ms\n",
      "201:\tlearn: 19.2841441\ttotal: 815ms\tremaining: 396ms\n",
      "202:\tlearn: 19.2546343\ttotal: 819ms\tremaining: 391ms\n",
      "203:\tlearn: 19.2123772\ttotal: 822ms\tremaining: 387ms\n",
      "204:\tlearn: 19.1942812\ttotal: 826ms\tremaining: 383ms\n",
      "205:\tlearn: 19.1659545\ttotal: 830ms\tremaining: 379ms\n",
      "206:\tlearn: 19.1346401\ttotal: 833ms\tremaining: 374ms\n",
      "207:\tlearn: 19.1046323\ttotal: 836ms\tremaining: 370ms\n",
      "208:\tlearn: 19.0688396\ttotal: 840ms\tremaining: 366ms\n",
      "209:\tlearn: 19.0417518\ttotal: 844ms\tremaining: 362ms\n",
      "210:\tlearn: 19.0051377\ttotal: 848ms\tremaining: 358ms\n",
      "211:\tlearn: 19.0034324\ttotal: 851ms\tremaining: 353ms\n",
      "212:\tlearn: 18.9755304\ttotal: 855ms\tremaining: 349ms\n",
      "213:\tlearn: 18.9556663\ttotal: 859ms\tremaining: 345ms\n",
      "214:\tlearn: 18.9538523\ttotal: 862ms\tremaining: 341ms\n",
      "215:\tlearn: 18.9297579\ttotal: 866ms\tremaining: 337ms\n",
      "216:\tlearn: 18.8948613\ttotal: 870ms\tremaining: 333ms\n",
      "217:\tlearn: 18.8697373\ttotal: 873ms\tremaining: 328ms\n",
      "218:\tlearn: 18.8531480\ttotal: 877ms\tremaining: 324ms\n",
      "219:\tlearn: 18.8268858\ttotal: 880ms\tremaining: 320ms\n",
      "220:\tlearn: 18.7850504\ttotal: 884ms\tremaining: 316ms\n",
      "221:\tlearn: 18.7832534\ttotal: 887ms\tremaining: 312ms\n",
      "222:\tlearn: 18.7593834\ttotal: 891ms\tremaining: 308ms\n",
      "223:\tlearn: 18.7285146\ttotal: 894ms\tremaining: 303ms\n",
      "224:\tlearn: 18.6858031\ttotal: 898ms\tremaining: 299ms\n",
      "225:\tlearn: 18.6581462\ttotal: 902ms\tremaining: 295ms\n",
      "226:\tlearn: 18.6371629\ttotal: 905ms\tremaining: 291ms\n",
      "227:\tlearn: 18.6116270\ttotal: 909ms\tremaining: 287ms\n",
      "228:\tlearn: 18.5927465\ttotal: 912ms\tremaining: 283ms\n",
      "229:\tlearn: 18.5581228\ttotal: 916ms\tremaining: 279ms\n",
      "230:\tlearn: 18.5472699\ttotal: 919ms\tremaining: 275ms\n",
      "231:\tlearn: 18.5246469\ttotal: 923ms\tremaining: 271ms\n",
      "232:\tlearn: 18.4902522\ttotal: 927ms\tremaining: 267ms\n",
      "233:\tlearn: 18.4562538\ttotal: 931ms\tremaining: 263ms\n",
      "234:\tlearn: 18.4261024\ttotal: 935ms\tremaining: 258ms\n",
      "235:\tlearn: 18.3958106\ttotal: 938ms\tremaining: 254ms\n",
      "236:\tlearn: 18.3556618\ttotal: 942ms\tremaining: 250ms\n",
      "237:\tlearn: 18.3479098\ttotal: 945ms\tremaining: 246ms\n",
      "238:\tlearn: 18.3246616\ttotal: 949ms\tremaining: 242ms\n",
      "239:\tlearn: 18.2983514\ttotal: 952ms\tremaining: 238ms\n",
      "240:\tlearn: 18.2672783\ttotal: 956ms\tremaining: 234ms\n",
      "241:\tlearn: 18.2591126\ttotal: 959ms\tremaining: 230ms\n",
      "242:\tlearn: 18.2414201\ttotal: 963ms\tremaining: 226ms\n",
      "243:\tlearn: 18.2087770\ttotal: 966ms\tremaining: 222ms\n",
      "244:\tlearn: 18.1895181\ttotal: 970ms\tremaining: 218ms\n",
      "245:\tlearn: 18.1729275\ttotal: 973ms\tremaining: 214ms\n",
      "246:\tlearn: 18.1616825\ttotal: 977ms\tremaining: 210ms\n",
      "247:\tlearn: 18.1393738\ttotal: 981ms\tremaining: 206ms\n",
      "248:\tlearn: 18.1068551\ttotal: 984ms\tremaining: 202ms\n",
      "249:\tlearn: 18.0897019\ttotal: 988ms\tremaining: 198ms\n",
      "250:\tlearn: 18.0674480\ttotal: 991ms\tremaining: 194ms\n",
      "251:\tlearn: 18.0389622\ttotal: 995ms\tremaining: 189ms\n",
      "252:\tlearn: 18.0324497\ttotal: 998ms\tremaining: 185ms\n",
      "253:\tlearn: 18.0142974\ttotal: 1s\tremaining: 181ms\n",
      "254:\tlearn: 17.9858433\ttotal: 1s\tremaining: 177ms\n",
      "255:\tlearn: 17.9491123\ttotal: 1.01s\tremaining: 173ms\n",
      "256:\tlearn: 17.9248279\ttotal: 1.01s\tremaining: 169ms\n",
      "257:\tlearn: 17.8921225\ttotal: 1.01s\tremaining: 165ms\n",
      "258:\tlearn: 17.8719163\ttotal: 1.02s\tremaining: 161ms\n",
      "259:\tlearn: 17.8420608\ttotal: 1.02s\tremaining: 157ms\n",
      "260:\tlearn: 17.8183649\ttotal: 1.03s\tremaining: 153ms\n",
      "261:\tlearn: 17.7984054\ttotal: 1.03s\tremaining: 149ms\n",
      "262:\tlearn: 17.7795809\ttotal: 1.03s\tremaining: 145ms\n",
      "263:\tlearn: 17.7516864\ttotal: 1.04s\tremaining: 141ms\n",
      "264:\tlearn: 17.7361225\ttotal: 1.04s\tremaining: 137ms\n",
      "265:\tlearn: 17.7215569\ttotal: 1.04s\tremaining: 134ms\n",
      "266:\tlearn: 17.7195287\ttotal: 1.05s\tremaining: 130ms\n",
      "267:\tlearn: 17.6934534\ttotal: 1.05s\tremaining: 126ms\n",
      "268:\tlearn: 17.6685550\ttotal: 1.05s\tremaining: 122ms\n",
      "269:\tlearn: 17.6376376\ttotal: 1.06s\tremaining: 118ms\n",
      "270:\tlearn: 17.6126423\ttotal: 1.06s\tremaining: 114ms\n",
      "271:\tlearn: 17.5889180\ttotal: 1.07s\tremaining: 110ms\n",
      "272:\tlearn: 17.5598778\ttotal: 1.07s\tremaining: 106ms\n",
      "273:\tlearn: 17.5393191\ttotal: 1.07s\tremaining: 102ms\n",
      "274:\tlearn: 17.5142579\ttotal: 1.08s\tremaining: 98ms\n",
      "275:\tlearn: 17.5128725\ttotal: 1.08s\tremaining: 94.1ms\n",
      "276:\tlearn: 17.4909164\ttotal: 1.08s\tremaining: 90.1ms\n",
      "277:\tlearn: 17.4659841\ttotal: 1.09s\tremaining: 86.2ms\n",
      "278:\tlearn: 17.4444547\ttotal: 1.09s\tremaining: 82.2ms\n",
      "279:\tlearn: 17.4208140\ttotal: 1.09s\tremaining: 78.3ms\n",
      "280:\tlearn: 17.3894843\ttotal: 1.1s\tremaining: 74.3ms\n",
      "281:\tlearn: 17.3671541\ttotal: 1.1s\tremaining: 70.4ms\n",
      "282:\tlearn: 17.3429711\ttotal: 1.11s\tremaining: 66.5ms\n",
      "283:\tlearn: 17.3230660\ttotal: 1.11s\tremaining: 62.5ms\n",
      "284:\tlearn: 17.2997303\ttotal: 1.11s\tremaining: 58.6ms\n",
      "285:\tlearn: 17.2741788\ttotal: 1.12s\tremaining: 54.7ms\n",
      "286:\tlearn: 17.2420604\ttotal: 1.12s\tremaining: 50.8ms\n",
      "287:\tlearn: 17.2226181\ttotal: 1.12s\tremaining: 46.9ms\n",
      "288:\tlearn: 17.2066969\ttotal: 1.13s\tremaining: 43ms\n",
      "289:\tlearn: 17.1766595\ttotal: 1.13s\tremaining: 39ms\n",
      "290:\tlearn: 17.1755444\ttotal: 1.14s\tremaining: 35.1ms\n",
      "291:\tlearn: 17.1518764\ttotal: 1.14s\tremaining: 31.2ms\n",
      "292:\tlearn: 17.1385662\ttotal: 1.14s\tremaining: 27.3ms\n",
      "293:\tlearn: 17.1040845\ttotal: 1.15s\tremaining: 23.4ms\n",
      "294:\tlearn: 17.0769367\ttotal: 1.15s\tremaining: 19.5ms\n",
      "295:\tlearn: 17.0617566\ttotal: 1.15s\tremaining: 15.6ms\n",
      "296:\tlearn: 17.0377651\ttotal: 1.16s\tremaining: 11.7ms\n",
      "297:\tlearn: 17.0137559\ttotal: 1.16s\tremaining: 7.79ms\n",
      "298:\tlearn: 17.0076574\ttotal: 1.16s\tremaining: 3.89ms\n",
      "299:\tlearn: 17.0018778\ttotal: 1.17s\tremaining: 0us\n",
      "лучшее значение RMSE на обуч.выборке: 24.063175551229307\n",
      "лучшие гиперпараметры: {'depth': 7, 'iterations': 300, 'learning_rate': 0.05}\n",
      "CPU times: total: 10.9 s\n",
      "Wall time: 2min 18s\n"
     ]
    }
   ],
   "source": [
    "%%time\n",
    "\n",
    "catboost_grid.fit(features_train, target_train)\n",
    "\n",
    "catboost_best_score = catboost_grid.best_score_ * -1\n",
    "catboost_best_params = catboost_grid.best_params_\n",
    "print(f'лучшее значение RMSE на обуч.выборке: {catboost_best_score}')\n",
    "print(f'лучшие гиперпараметры: {catboost_best_params}')"
   ]
  },
  {
   "cell_type": "code",
   "execution_count": 33,
   "metadata": {},
   "outputs": [
    {
     "data": {
      "text/html": [
       "<div>\n",
       "<style scoped>\n",
       "    .dataframe tbody tr th:only-of-type {\n",
       "        vertical-align: middle;\n",
       "    }\n",
       "\n",
       "    .dataframe tbody tr th {\n",
       "        vertical-align: top;\n",
       "    }\n",
       "\n",
       "    .dataframe thead th {\n",
       "        text-align: right;\n",
       "    }\n",
       "</style>\n",
       "<table border=\"1\" class=\"dataframe\">\n",
       "  <thead>\n",
       "    <tr style=\"text-align: right;\">\n",
       "      <th></th>\n",
       "      <th>name</th>\n",
       "      <th>rmse</th>\n",
       "    </tr>\n",
       "  </thead>\n",
       "  <tbody>\n",
       "    <tr>\n",
       "      <th>0</th>\n",
       "      <td>LinearRegression()</td>\n",
       "      <td>34.342780</td>\n",
       "    </tr>\n",
       "    <tr>\n",
       "      <th>1</th>\n",
       "      <td>(DecisionTreeRegressor(max_depth=10, max_featu...</td>\n",
       "      <td>24.765784</td>\n",
       "    </tr>\n",
       "    <tr>\n",
       "      <th>2</th>\n",
       "      <td>GridSearchCV(cv=4,\\n             estimator=&lt;ca...</td>\n",
       "      <td>24.063176</td>\n",
       "    </tr>\n",
       "  </tbody>\n",
       "</table>\n",
       "</div>"
      ],
      "text/plain": [
       "                                                name       rmse\n",
       "0                                 LinearRegression()  34.342780\n",
       "1  (DecisionTreeRegressor(max_depth=10, max_featu...  24.765784\n",
       "2  GridSearchCV(cv=4,\\n             estimator=<ca...  24.063176"
      ]
     },
     "execution_count": 33,
     "metadata": {},
     "output_type": "execute_result"
    }
   ],
   "source": [
    "models_data.loc[len(models_data.index )] = [catboost_grid, \n",
    "                                            catboost_best_score]\n",
    "models_data"
   ]
  },
  {
   "cell_type": "markdown",
   "metadata": {},
   "source": [
    "### LightGBM"
   ]
  },
  {
   "cell_type": "code",
   "execution_count": 34,
   "metadata": {},
   "outputs": [],
   "source": [
    "features_train_lgb = features_train.copy().astype({\"month\":'category',\n",
    "                                  \"day\":'category',\n",
    "                                  \"dayofweek\":'category'})\n",
    "features_test_lgb = features_test.copy().astype({\"month\":'category',\n",
    "                                  \"day\":'category',\n",
    "                                  \"dayofweek\":'category'})"
   ]
  },
  {
   "cell_type": "code",
   "execution_count": 35,
   "metadata": {},
   "outputs": [],
   "source": [
    "#CODE REVIEW\n",
    "import os"
   ]
  },
  {
   "cell_type": "code",
   "execution_count": 36,
   "metadata": {},
   "outputs": [],
   "source": [
    "def lgb_regr(features, target):\n",
    "    model = LGBMRegressor()\n",
    "    params = {\n",
    "        'boosting_type' : ['gbdt'],\n",
    "        'n_estimators' : [100, 200, 300],\n",
    "        'max_depth' : [5, 7, 10],\n",
    "        'learning_rate': [0.01, 0.05],\n",
    "        'verbose' : [10],\n",
    "        'random_state' : [12345],\n",
    "    }\n",
    "    grid_cv = GridSearchCV(estimator=model, param_grid=params, cv=4, n_jobs=os.cpu_count()//2, scoring='neg_root_mean_squared_error')\n",
    "    grid_cv.fit(features, target, categorical_feature=cat_features)\n",
    "    print('Best hyperparams: ', grid_cv.best_params_)\n",
    "    print('RMSW score on train sample: {:.2f}'.format(-grid_cv.best_score_))\n",
    "    return grid_cv.best_params_, -grid_cv.best_score_, grid_cv"
   ]
  },
  {
   "cell_type": "code",
   "execution_count": 37,
   "metadata": {},
   "outputs": [
    {
     "name": "stdout",
     "output_type": "stream",
     "text": [
      "[LightGBM] [Warning] Accuracy may be bad since you didn't explicitly set num_leaves OR 2^max_depth > num_leaves. (num_leaves=31).\n",
      "[LightGBM] [Warning] Accuracy may be bad since you didn't explicitly set num_leaves OR 2^max_depth > num_leaves. (num_leaves=31).\n",
      "[LightGBM] [Debug] Dataset::GetMultiBinFromAllFeatures: sparse rate 0.012941\n",
      "[LightGBM] [Debug] init for col-wise cost 0.000007 seconds, init for row-wise cost 0.000371 seconds\n",
      "[LightGBM] [Warning] Auto-choosing col-wise multi-threading, the overhead of testing was 0.000784 seconds.\n",
      "You can set `force_col_wise=true` to remove the overhead.\n",
      "[LightGBM] [Info] Total Bins 4854\n",
      "[LightGBM] [Info] Number of data points in the train set: 3952, number of used features: 28\n",
      "[LightGBM] [Info] Start training from score 78.451417\n",
      "[LightGBM] [Debug] Trained a tree with leaves = 31 and depth = 8\n",
      "[LightGBM] [Debug] Trained a tree with leaves = 31 and depth = 9\n",
      "[LightGBM] [Debug] Trained a tree with leaves = 31 and depth = 9\n",
      "[LightGBM] [Debug] Trained a tree with leaves = 31 and depth = 8\n",
      "[LightGBM] [Debug] Trained a tree with leaves = 31 and depth = 9\n",
      "[LightGBM] [Debug] Trained a tree with leaves = 31 and depth = 7\n",
      "[LightGBM] [Debug] Trained a tree with leaves = 31 and depth = 8\n",
      "[LightGBM] [Debug] Trained a tree with leaves = 31 and depth = 8\n",
      "[LightGBM] [Debug] Trained a tree with leaves = 31 and depth = 8\n",
      "[LightGBM] [Debug] Trained a tree with leaves = 31 and depth = 8\n",
      "[LightGBM] [Debug] Trained a tree with leaves = 31 and depth = 7\n",
      "[LightGBM] [Debug] Trained a tree with leaves = 31 and depth = 8\n",
      "[LightGBM] [Debug] Trained a tree with leaves = 31 and depth = 9\n",
      "[LightGBM] [Debug] Trained a tree with leaves = 31 and depth = 8\n",
      "[LightGBM] [Debug] Trained a tree with leaves = 31 and depth = 8\n",
      "[LightGBM] [Debug] Trained a tree with leaves = 31 and depth = 9\n",
      "[LightGBM] [Debug] Trained a tree with leaves = 31 and depth = 8\n",
      "[LightGBM] [Debug] Trained a tree with leaves = 31 and depth = 9\n",
      "[LightGBM] [Debug] Trained a tree with leaves = 31 and depth = 8\n",
      "[LightGBM] [Debug] Trained a tree with leaves = 31 and depth = 10\n",
      "[LightGBM] [Debug] Trained a tree with leaves = 31 and depth = 9\n",
      "[LightGBM] [Debug] Trained a tree with leaves = 31 and depth = 8\n",
      "[LightGBM] [Debug] Trained a tree with leaves = 31 and depth = 8\n",
      "[LightGBM] [Debug] Trained a tree with leaves = 31 and depth = 10\n",
      "[LightGBM] [Debug] Trained a tree with leaves = 31 and depth = 9\n",
      "[LightGBM] [Debug] Trained a tree with leaves = 31 and depth = 10\n",
      "[LightGBM] [Debug] Trained a tree with leaves = 31 and depth = 10\n",
      "[LightGBM] [Debug] Trained a tree with leaves = 31 and depth = 9\n",
      "[LightGBM] [Debug] Trained a tree with leaves = 31 and depth = 8\n",
      "[LightGBM] [Debug] Trained a tree with leaves = 31 and depth = 8\n",
      "[LightGBM] [Debug] Trained a tree with leaves = 31 and depth = 10\n",
      "[LightGBM] [Debug] Trained a tree with leaves = 31 and depth = 9\n",
      "[LightGBM] [Debug] Trained a tree with leaves = 31 and depth = 10\n",
      "[LightGBM] [Debug] Trained a tree with leaves = 31 and depth = 9\n",
      "[LightGBM] [Debug] Trained a tree with leaves = 31 and depth = 10\n",
      "[LightGBM] [Debug] Trained a tree with leaves = 31 and depth = 10\n",
      "[LightGBM] [Debug] Trained a tree with leaves = 31 and depth = 10\n",
      "[LightGBM] [Debug] Trained a tree with leaves = 31 and depth = 9\n",
      "[LightGBM] [Debug] Trained a tree with leaves = 31 and depth = 8\n",
      "[LightGBM] [Debug] Trained a tree with leaves = 31 and depth = 10\n",
      "[LightGBM] [Debug] Trained a tree with leaves = 31 and depth = 10\n",
      "[LightGBM] [Debug] Trained a tree with leaves = 31 and depth = 10\n",
      "[LightGBM] [Debug] Trained a tree with leaves = 31 and depth = 9\n",
      "[LightGBM] [Debug] Trained a tree with leaves = 31 and depth = 10\n",
      "[LightGBM] [Debug] Trained a tree with leaves = 31 and depth = 10\n",
      "[LightGBM] [Debug] Trained a tree with leaves = 31 and depth = 10\n",
      "[LightGBM] [Debug] Trained a tree with leaves = 31 and depth = 10\n",
      "[LightGBM] [Debug] Trained a tree with leaves = 31 and depth = 10\n",
      "[LightGBM] [Debug] Trained a tree with leaves = 31 and depth = 10\n",
      "[LightGBM] [Debug] Trained a tree with leaves = 31 and depth = 10\n",
      "[LightGBM] [Debug] Trained a tree with leaves = 31 and depth = 10\n",
      "[LightGBM] [Debug] Trained a tree with leaves = 31 and depth = 10\n",
      "[LightGBM] [Debug] Trained a tree with leaves = 31 and depth = 10\n",
      "[LightGBM] [Debug] Trained a tree with leaves = 31 and depth = 10\n",
      "[LightGBM] [Debug] Trained a tree with leaves = 31 and depth = 10\n",
      "[LightGBM] [Debug] Trained a tree with leaves = 31 and depth = 10\n",
      "[LightGBM] [Debug] Trained a tree with leaves = 31 and depth = 10\n",
      "[LightGBM] [Debug] Trained a tree with leaves = 31 and depth = 10\n",
      "[LightGBM] [Debug] Trained a tree with leaves = 31 and depth = 10\n",
      "[LightGBM] [Debug] Trained a tree with leaves = 31 and depth = 10\n",
      "[LightGBM] [Debug] Trained a tree with leaves = 31 and depth = 10\n",
      "[LightGBM] [Debug] Trained a tree with leaves = 31 and depth = 9\n",
      "[LightGBM] [Debug] Trained a tree with leaves = 31 and depth = 10\n",
      "[LightGBM] [Debug] Trained a tree with leaves = 31 and depth = 9\n",
      "[LightGBM] [Debug] Trained a tree with leaves = 31 and depth = 10\n",
      "[LightGBM] [Debug] Trained a tree with leaves = 31 and depth = 10\n",
      "[LightGBM] [Debug] Trained a tree with leaves = 31 and depth = 10\n",
      "[LightGBM] [Debug] Trained a tree with leaves = 31 and depth = 10\n",
      "[LightGBM] [Debug] Trained a tree with leaves = 31 and depth = 10\n",
      "[LightGBM] [Debug] Trained a tree with leaves = 31 and depth = 10\n",
      "[LightGBM] [Debug] Trained a tree with leaves = 31 and depth = 9\n",
      "[LightGBM] [Debug] Trained a tree with leaves = 31 and depth = 10\n",
      "[LightGBM] [Debug] Trained a tree with leaves = 31 and depth = 10\n",
      "[LightGBM] [Debug] Trained a tree with leaves = 31 and depth = 10\n",
      "[LightGBM] [Debug] Trained a tree with leaves = 31 and depth = 10\n",
      "[LightGBM] [Debug] Trained a tree with leaves = 31 and depth = 10\n",
      "[LightGBM] [Debug] Trained a tree with leaves = 31 and depth = 8\n",
      "[LightGBM] [Debug] Trained a tree with leaves = 31 and depth = 10\n",
      "[LightGBM] [Debug] Trained a tree with leaves = 31 and depth = 10\n",
      "[LightGBM] [Debug] Trained a tree with leaves = 31 and depth = 10\n",
      "[LightGBM] [Debug] Trained a tree with leaves = 31 and depth = 7\n",
      "[LightGBM] [Debug] Trained a tree with leaves = 31 and depth = 10\n",
      "[LightGBM] [Debug] Trained a tree with leaves = 31 and depth = 10\n",
      "[LightGBM] [Debug] Trained a tree with leaves = 31 and depth = 10\n",
      "[LightGBM] [Debug] Trained a tree with leaves = 31 and depth = 9\n",
      "[LightGBM] [Debug] Trained a tree with leaves = 31 and depth = 10\n",
      "[LightGBM] [Debug] Trained a tree with leaves = 31 and depth = 10\n",
      "[LightGBM] [Debug] Trained a tree with leaves = 31 and depth = 10\n",
      "[LightGBM] [Debug] Trained a tree with leaves = 31 and depth = 9\n",
      "[LightGBM] [Debug] Trained a tree with leaves = 31 and depth = 9\n",
      "[LightGBM] [Debug] Trained a tree with leaves = 31 and depth = 10\n",
      "[LightGBM] [Debug] Trained a tree with leaves = 31 and depth = 10\n",
      "[LightGBM] [Debug] Trained a tree with leaves = 31 and depth = 10\n",
      "[LightGBM] [Debug] Trained a tree with leaves = 31 and depth = 10\n",
      "[LightGBM] [Debug] Trained a tree with leaves = 31 and depth = 9\n",
      "[LightGBM] [Debug] Trained a tree with leaves = 31 and depth = 10\n",
      "[LightGBM] [Debug] Trained a tree with leaves = 31 and depth = 10\n",
      "[LightGBM] [Debug] Trained a tree with leaves = 31 and depth = 10\n",
      "[LightGBM] [Warning] No further splits with positive gain, best gain: -inf\n",
      "[LightGBM] [Debug] Trained a tree with leaves = 29 and depth = 10\n",
      "[LightGBM] [Debug] Trained a tree with leaves = 31 and depth = 10\n",
      "[LightGBM] [Debug] Trained a tree with leaves = 31 and depth = 10\n",
      "[LightGBM] [Debug] Trained a tree with leaves = 31 and depth = 10\n",
      "[LightGBM] [Debug] Trained a tree with leaves = 31 and depth = 10\n",
      "[LightGBM] [Warning] No further splits with positive gain, best gain: -inf\n",
      "[LightGBM] [Debug] Trained a tree with leaves = 28 and depth = 10\n",
      "[LightGBM] [Debug] Trained a tree with leaves = 31 and depth = 8\n",
      "[LightGBM] [Debug] Trained a tree with leaves = 31 and depth = 10\n",
      "[LightGBM] [Warning] No further splits with positive gain, best gain: -inf\n",
      "[LightGBM] [Debug] Trained a tree with leaves = 28 and depth = 10\n",
      "[LightGBM] [Debug] Trained a tree with leaves = 31 and depth = 10\n",
      "[LightGBM] [Debug] Trained a tree with leaves = 31 and depth = 10\n",
      "[LightGBM] [Debug] Trained a tree with leaves = 31 and depth = 10\n",
      "[LightGBM] [Debug] Trained a tree with leaves = 31 and depth = 10\n",
      "[LightGBM] [Debug] Trained a tree with leaves = 31 and depth = 10\n",
      "[LightGBM] [Debug] Trained a tree with leaves = 31 and depth = 9\n",
      "[LightGBM] [Warning] No further splits with positive gain, best gain: -inf\n",
      "[LightGBM] [Debug] Trained a tree with leaves = 25 and depth = 10\n",
      "[LightGBM] [Debug] Trained a tree with leaves = 31 and depth = 10\n",
      "[LightGBM] [Warning] No further splits with positive gain, best gain: -inf\n",
      "[LightGBM] [Debug] Trained a tree with leaves = 19 and depth = 10\n",
      "[LightGBM] [Debug] Trained a tree with leaves = 31 and depth = 10\n",
      "[LightGBM] [Debug] Trained a tree with leaves = 31 and depth = 10\n",
      "[LightGBM] [Warning] No further splits with positive gain, best gain: -inf\n",
      "[LightGBM] [Debug] Trained a tree with leaves = 27 and depth = 10\n",
      "[LightGBM] [Debug] Trained a tree with leaves = 31 and depth = 10\n",
      "[LightGBM] [Debug] Trained a tree with leaves = 31 and depth = 9\n",
      "[LightGBM] [Debug] Trained a tree with leaves = 31 and depth = 9\n",
      "[LightGBM] [Debug] Trained a tree with leaves = 31 and depth = 9\n",
      "[LightGBM] [Debug] Trained a tree with leaves = 31 and depth = 10\n",
      "[LightGBM] [Debug] Trained a tree with leaves = 31 and depth = 10\n",
      "[LightGBM] [Warning] No further splits with positive gain, best gain: -inf\n",
      "[LightGBM] [Debug] Trained a tree with leaves = 28 and depth = 10\n",
      "[LightGBM] [Debug] Trained a tree with leaves = 31 and depth = 10\n",
      "[LightGBM] [Debug] Trained a tree with leaves = 31 and depth = 9\n",
      "[LightGBM] [Debug] Trained a tree with leaves = 31 and depth = 10\n",
      "[LightGBM] [Debug] Trained a tree with leaves = 31 and depth = 9\n",
      "[LightGBM] [Debug] Trained a tree with leaves = 31 and depth = 10\n",
      "[LightGBM] [Debug] Trained a tree with leaves = 31 and depth = 10\n",
      "[LightGBM] [Debug] Trained a tree with leaves = 31 and depth = 10\n",
      "[LightGBM] [Debug] Trained a tree with leaves = 31 and depth = 10\n",
      "[LightGBM] [Warning] No further splits with positive gain, best gain: -inf\n",
      "[LightGBM] [Debug] Trained a tree with leaves = 26 and depth = 10\n",
      "[LightGBM] [Debug] Trained a tree with leaves = 31 and depth = 10\n",
      "[LightGBM] [Debug] Trained a tree with leaves = 31 and depth = 10\n",
      "[LightGBM] [Debug] Trained a tree with leaves = 31 and depth = 10\n",
      "[LightGBM] [Debug] Trained a tree with leaves = 31 and depth = 10\n",
      "[LightGBM] [Debug] Trained a tree with leaves = 31 and depth = 10\n",
      "[LightGBM] [Debug] Trained a tree with leaves = 31 and depth = 10\n",
      "[LightGBM] [Debug] Trained a tree with leaves = 31 and depth = 10\n",
      "[LightGBM] [Warning] No further splits with positive gain, best gain: -inf\n",
      "[LightGBM] [Debug] Trained a tree with leaves = 28 and depth = 10\n",
      "[LightGBM] [Debug] Trained a tree with leaves = 31 and depth = 10\n",
      "[LightGBM] [Debug] Trained a tree with leaves = 31 and depth = 10\n",
      "[LightGBM] [Debug] Trained a tree with leaves = 31 and depth = 10\n",
      "[LightGBM] [Debug] Trained a tree with leaves = 31 and depth = 10\n",
      "[LightGBM] [Debug] Trained a tree with leaves = 31 and depth = 10\n",
      "[LightGBM] [Warning] No further splits with positive gain, best gain: -inf\n",
      "[LightGBM] [Debug] Trained a tree with leaves = 29 and depth = 10\n",
      "[LightGBM] [Debug] Trained a tree with leaves = 31 and depth = 9\n",
      "[LightGBM] [Debug] Trained a tree with leaves = 31 and depth = 10\n",
      "[LightGBM] [Warning] No further splits with positive gain, best gain: -inf\n",
      "[LightGBM] [Debug] Trained a tree with leaves = 16 and depth = 10\n",
      "[LightGBM] [Debug] Trained a tree with leaves = 31 and depth = 10\n",
      "[LightGBM] [Debug] Trained a tree with leaves = 31 and depth = 10\n",
      "[LightGBM] [Debug] Trained a tree with leaves = 31 and depth = 10\n",
      "[LightGBM] [Warning] No further splits with positive gain, best gain: -inf\n",
      "[LightGBM] [Debug] Trained a tree with leaves = 16 and depth = 10\n",
      "[LightGBM] [Debug] Trained a tree with leaves = 31 and depth = 10\n",
      "[LightGBM] [Debug] Trained a tree with leaves = 31 and depth = 8\n",
      "[LightGBM] [Debug] Trained a tree with leaves = 31 and depth = 10\n",
      "[LightGBM] [Debug] Trained a tree with leaves = 31 and depth = 10\n",
      "[LightGBM] [Debug] Trained a tree with leaves = 31 and depth = 10\n",
      "[LightGBM] [Debug] Trained a tree with leaves = 31 and depth = 10\n",
      "[LightGBM] [Debug] Trained a tree with leaves = 31 and depth = 9\n",
      "[LightGBM] [Debug] Trained a tree with leaves = 31 and depth = 10\n",
      "[LightGBM] [Debug] Trained a tree with leaves = 31 and depth = 10\n",
      "[LightGBM] [Warning] No further splits with positive gain, best gain: -inf\n",
      "[LightGBM] [Debug] Trained a tree with leaves = 16 and depth = 10\n",
      "[LightGBM] [Debug] Trained a tree with leaves = 31 and depth = 10\n",
      "[LightGBM] [Debug] Trained a tree with leaves = 31 and depth = 10\n",
      "[LightGBM] [Debug] Trained a tree with leaves = 31 and depth = 9\n",
      "[LightGBM] [Debug] Trained a tree with leaves = 31 and depth = 10\n",
      "[LightGBM] [Debug] Trained a tree with leaves = 31 and depth = 9\n",
      "[LightGBM] [Debug] Trained a tree with leaves = 31 and depth = 9\n",
      "[LightGBM] [Warning] No further splits with positive gain, best gain: -inf\n",
      "[LightGBM] [Debug] Trained a tree with leaves = 30 and depth = 10\n",
      "[LightGBM] [Debug] Trained a tree with leaves = 31 and depth = 9\n",
      "[LightGBM] [Debug] Trained a tree with leaves = 31 and depth = 8\n",
      "[LightGBM] [Debug] Trained a tree with leaves = 31 and depth = 9\n",
      "[LightGBM] [Warning] No further splits with positive gain, best gain: -inf\n",
      "[LightGBM] [Debug] Trained a tree with leaves = 14 and depth = 10\n",
      "[LightGBM] [Debug] Trained a tree with leaves = 31 and depth = 10\n",
      "[LightGBM] [Debug] Trained a tree with leaves = 31 and depth = 10\n",
      "[LightGBM] [Debug] Trained a tree with leaves = 31 and depth = 10\n",
      "[LightGBM] [Warning] No further splits with positive gain, best gain: -inf\n",
      "[LightGBM] [Debug] Trained a tree with leaves = 27 and depth = 10\n",
      "[LightGBM] [Debug] Trained a tree with leaves = 31 and depth = 9\n",
      "[LightGBM] [Debug] Trained a tree with leaves = 31 and depth = 10\n",
      "[LightGBM] [Debug] Trained a tree with leaves = 31 and depth = 8\n",
      "[LightGBM] [Debug] Trained a tree with leaves = 31 and depth = 9\n",
      "[LightGBM] [Debug] Trained a tree with leaves = 31 and depth = 8\n",
      "[LightGBM] [Warning] No further splits with positive gain, best gain: -inf\n",
      "[LightGBM] [Debug] Trained a tree with leaves = 30 and depth = 10\n",
      "[LightGBM] [Debug] Trained a tree with leaves = 31 and depth = 10\n",
      "[LightGBM] [Debug] Trained a tree with leaves = 31 and depth = 10\n",
      "[LightGBM] [Debug] Trained a tree with leaves = 31 and depth = 10\n",
      "[LightGBM] [Debug] Trained a tree with leaves = 31 and depth = 10\n",
      "[LightGBM] [Debug] Trained a tree with leaves = 31 and depth = 10\n",
      "[LightGBM] [Debug] Trained a tree with leaves = 31 and depth = 10\n",
      "[LightGBM] [Debug] Trained a tree with leaves = 31 and depth = 10\n",
      "[LightGBM] [Debug] Trained a tree with leaves = 31 and depth = 10\n",
      "[LightGBM] [Debug] Trained a tree with leaves = 31 and depth = 9\n",
      "[LightGBM] [Debug] Trained a tree with leaves = 31 and depth = 9\n",
      "[LightGBM] [Debug] Trained a tree with leaves = 31 and depth = 10\n",
      "[LightGBM] [Debug] Trained a tree with leaves = 31 and depth = 10\n",
      "[LightGBM] [Debug] Trained a tree with leaves = 31 and depth = 9\n",
      "Best hyperparams:  {'boosting_type': 'gbdt', 'learning_rate': 0.05, 'max_depth': 10, 'n_estimators': 200, 'random_state': 12345, 'verbose': 10}\n",
      "RMSW score on train sample: 24.93\n",
      "CPU times: total: 2.05 s\n",
      "Wall time: 7.5 s\n"
     ]
    },
    {
     "name": "stderr",
     "output_type": "stream",
     "text": [
      "C:\\Users\\lexus\\anaconda3\\envs\\practicum\\lib\\site-packages\\lightgbm\\basic.py:2065: UserWarning: Using categorical_feature in Dataset.\n",
      "  _log_warning('Using categorical_feature in Dataset.')\n"
     ]
    }
   ],
   "source": [
    "%%time\n",
    "lgb_params, rmse_lgb, model_lgb = lgb_regr(features_train_lgb, target_train)"
   ]
  },
  {
   "cell_type": "code",
   "execution_count": 38,
   "metadata": {},
   "outputs": [
    {
     "data": {
      "text/html": [
       "<div>\n",
       "<style scoped>\n",
       "    .dataframe tbody tr th:only-of-type {\n",
       "        vertical-align: middle;\n",
       "    }\n",
       "\n",
       "    .dataframe tbody tr th {\n",
       "        vertical-align: top;\n",
       "    }\n",
       "\n",
       "    .dataframe thead th {\n",
       "        text-align: right;\n",
       "    }\n",
       "</style>\n",
       "<table border=\"1\" class=\"dataframe\">\n",
       "  <thead>\n",
       "    <tr style=\"text-align: right;\">\n",
       "      <th></th>\n",
       "      <th>name</th>\n",
       "      <th>rmse</th>\n",
       "    </tr>\n",
       "  </thead>\n",
       "  <tbody>\n",
       "    <tr>\n",
       "      <th>0</th>\n",
       "      <td>LinearRegression()</td>\n",
       "      <td>34.342780</td>\n",
       "    </tr>\n",
       "    <tr>\n",
       "      <th>1</th>\n",
       "      <td>(DecisionTreeRegressor(max_depth=10, max_featu...</td>\n",
       "      <td>24.765784</td>\n",
       "    </tr>\n",
       "    <tr>\n",
       "      <th>2</th>\n",
       "      <td>GridSearchCV(cv=4,\\n             estimator=&lt;ca...</td>\n",
       "      <td>24.063176</td>\n",
       "    </tr>\n",
       "    <tr>\n",
       "      <th>3</th>\n",
       "      <td>GridSearchCV(cv=4, estimator=LGBMRegressor(), ...</td>\n",
       "      <td>24.933798</td>\n",
       "    </tr>\n",
       "  </tbody>\n",
       "</table>\n",
       "</div>"
      ],
      "text/plain": [
       "                                                name       rmse\n",
       "0                                 LinearRegression()  34.342780\n",
       "1  (DecisionTreeRegressor(max_depth=10, max_featu...  24.765784\n",
       "2  GridSearchCV(cv=4,\\n             estimator=<ca...  24.063176\n",
       "3  GridSearchCV(cv=4, estimator=LGBMRegressor(), ...  24.933798"
      ]
     },
     "execution_count": 38,
     "metadata": {},
     "output_type": "execute_result"
    }
   ],
   "source": [
    "models_data.loc[len(models_data.index )] = [model_lgb, rmse_lgb]\n",
    "models_data"
   ]
  },
  {
   "cell_type": "markdown",
   "metadata": {},
   "source": [
    "Мы обучили несколько моделей машинного обучения, проверили их качество на обучающей выборке. Все модели показали приемлемое качество, исследуемая метрика RMSE меньше 48, что удовлетворяет условию задачи. Самый лучший результат RMSE у модели CatBoostRegressor. Проверим ее на тестовой выборке."
   ]
  },
  {
   "cell_type": "markdown",
   "metadata": {},
   "source": [
    "## Тестирование"
   ]
  },
  {
   "cell_type": "code",
   "execution_count": 39,
   "metadata": {},
   "outputs": [
    {
     "name": "stdout",
     "output_type": "stream",
     "text": [
      "Тестовое RMSE = 42.77\n"
     ]
    }
   ],
   "source": [
    "predict_cat = catboost_grid.predict(features_test)\n",
    "\n",
    "rmse_cat = mean_squared_error(target_test, predict_cat)**0.5\n",
    "\n",
    "print('Тестовое RMSE = {:.2f}'.format(rmse_cat))"
   ]
  },
  {
   "cell_type": "markdown",
   "metadata": {},
   "source": [
    "Мы проверили наилучшую модель на тестовой выборке, метрика качества получилась ниже 48, что удовлетворяет условию задачи."
   ]
  },
  {
   "cell_type": "code",
   "execution_count": 40,
   "metadata": {},
   "outputs": [],
   "source": [
    "predict_data = pd.DataFrame(predict_cat, index=target_test.index) "
   ]
  },
  {
   "cell_type": "code",
   "execution_count": 41,
   "metadata": {},
   "outputs": [
    {
     "data": {
      "image/png": "[encoded data removed]",
      "text/plain": [
       "<Figure size 1800x1000 with 1 Axes>"
      ]
     },
     "metadata": {},
     "output_type": "display_data"
    }
   ],
   "source": [
    "plt.figure(figsize=(18, 10))\n",
    "ax = target_test.plot()\n",
    "predict_data.plot(ax=ax) \n",
    "plt.legend(['Истинные значения', 'Прогноз'])\n",
    "plt.title('График прогноз-факт для лучшей выбранной модели')\n",
    "plt.show()"
   ]
  },
  {
   "cell_type": "markdown",
   "metadata": {},
   "source": [
    "На графике прогноз-факт для лучшей выбранной модели видно, что нашей модели удалось уловить суточную изменчивость спроса: она более менее точно предсказала пики и минимумы спроса на услуги такси в течение дня."
   ]
  },
  {
   "cell_type": "markdown",
   "metadata": {},
   "source": [
    "**Итоговые выводы**"
   ]
  },
  {
   "cell_type": "markdown",
   "metadata": {},
   "source": [
    "В процессе выполнения проекта мы выполнили следующие этапы работ: \n",
    "\n",
    "Подготовительный, на котором мы провели подготовку данных: ознакомились и изучили их, изменили тип данных, установили дату в качестве индекса, провели сортировку по индексу, проверили ряд на монотонность, провели ресемплирование временного ряда.\n",
    "\n",
    "Аналитический, на котором мы выяснили, что с марта наблюдается тренд увеличения количества заказов такси, причем, в августе он рост выражен ярче по сравнению с другими месяцами, а в изменении спроса на такси в течение дня обнаружили следующие закономерности: пики - в полночь, 10 и 16 часов, а минимум - в 6 утра.\n",
    "\n",
    "Этап обучения моделей, на котором мы обучили несколько моделей машинного обучения, проверили их качество на обучающей выборке. Все модели показали приемлемое качество, исследуемая метрика RMSE меньше 48, что удовлетворяет условию задачи. Самый лучший результат RMSE оказался у модели CatBoostRegressor. \n",
    "\n",
    "Этап тестирования, на котором мы проверили работу наилучшей модели (CatBoostRegressor) на тестовых данных, построили для нее график факт-прогноз. Метрика качества получилась ниже 48, что удовлетворяет условию поставленной задачи."
   ]
  },
  {
   "cell_type": "code",
   "execution_count": null,
   "metadata": {},
   "outputs": [],
   "source": []
  }
 ],
 "metadata": {
  "ExecuteTimeLog": [
   {
    "duration": 4286,
    "start_time": "2023-03-05T05:39:16.242Z"
   },
   {
    "duration": 1852,
    "start_time": "2023-03-05T05:39:20.530Z"
   },
   {
    "duration": 0,
    "start_time": "2023-03-05T05:39:22.384Z"
   },
   {
    "duration": 0,
    "start_time": "2023-03-05T05:39:22.385Z"
   },
   {
    "duration": 0,
    "start_time": "2023-03-05T05:39:22.386Z"
   },
   {
    "duration": 0,
    "start_time": "2023-03-05T05:39:22.387Z"
   },
   {
    "duration": 0,
    "start_time": "2023-03-05T05:39:22.387Z"
   },
   {
    "duration": 0,
    "start_time": "2023-03-05T05:39:22.388Z"
   },
   {
    "duration": 0,
    "start_time": "2023-03-05T05:39:22.388Z"
   },
   {
    "duration": 0,
    "start_time": "2023-03-05T05:39:22.388Z"
   },
   {
    "duration": 0,
    "start_time": "2023-03-05T05:39:22.389Z"
   },
   {
    "duration": 0,
    "start_time": "2023-03-05T05:39:22.389Z"
   },
   {
    "duration": 0,
    "start_time": "2023-03-05T05:39:22.389Z"
   },
   {
    "duration": 0,
    "start_time": "2023-03-05T05:39:22.390Z"
   },
   {
    "duration": 0,
    "start_time": "2023-03-05T05:39:22.390Z"
   },
   {
    "duration": 0,
    "start_time": "2023-03-05T05:39:22.392Z"
   },
   {
    "duration": 0,
    "start_time": "2023-03-05T05:39:22.393Z"
   },
   {
    "duration": 0,
    "start_time": "2023-03-05T05:39:22.394Z"
   },
   {
    "duration": 0,
    "start_time": "2023-03-05T05:39:22.395Z"
   },
   {
    "duration": 0,
    "start_time": "2023-03-05T05:39:22.396Z"
   },
   {
    "duration": 0,
    "start_time": "2023-03-05T05:39:22.397Z"
   },
   {
    "duration": 0,
    "start_time": "2023-03-05T05:39:22.398Z"
   },
   {
    "duration": 0,
    "start_time": "2023-03-05T05:39:22.399Z"
   },
   {
    "duration": 0,
    "start_time": "2023-03-05T05:39:22.400Z"
   },
   {
    "duration": 0,
    "start_time": "2023-03-05T05:39:22.401Z"
   },
   {
    "duration": 0,
    "start_time": "2023-03-05T05:39:22.402Z"
   },
   {
    "duration": 0,
    "start_time": "2023-03-05T05:39:22.403Z"
   },
   {
    "duration": 0,
    "start_time": "2023-03-05T05:39:22.404Z"
   },
   {
    "duration": 0,
    "start_time": "2023-03-05T05:39:22.405Z"
   },
   {
    "duration": 0,
    "start_time": "2023-03-05T05:39:22.406Z"
   },
   {
    "duration": 0,
    "start_time": "2023-03-05T05:39:22.407Z"
   },
   {
    "duration": 0,
    "start_time": "2023-03-05T05:39:22.407Z"
   },
   {
    "duration": 0,
    "start_time": "2023-03-05T05:39:22.409Z"
   },
   {
    "duration": 0,
    "start_time": "2023-03-05T05:39:22.409Z"
   },
   {
    "duration": 0,
    "start_time": "2023-03-05T05:39:22.410Z"
   },
   {
    "duration": 0,
    "start_time": "2023-03-05T05:39:22.411Z"
   },
   {
    "duration": 0,
    "start_time": "2023-03-05T05:39:22.412Z"
   },
   {
    "duration": 0,
    "start_time": "2023-03-05T05:39:22.413Z"
   },
   {
    "duration": 0,
    "start_time": "2023-03-05T05:39:22.414Z"
   },
   {
    "duration": 3,
    "start_time": "2023-03-05T05:43:36.966Z"
   },
   {
    "duration": 195,
    "start_time": "2023-03-05T05:43:38.424Z"
   },
   {
    "duration": 14,
    "start_time": "2023-03-05T05:43:39.848Z"
   },
   {
    "duration": 9,
    "start_time": "2023-03-05T05:43:41.325Z"
   },
   {
    "duration": 3,
    "start_time": "2023-03-05T05:43:42.334Z"
   },
   {
    "duration": 8,
    "start_time": "2023-03-05T05:43:43.344Z"
   },
   {
    "duration": 9,
    "start_time": "2023-03-05T05:43:44.057Z"
   },
   {
    "duration": 6,
    "start_time": "2023-03-05T05:44:24.964Z"
   },
   {
    "duration": 785,
    "start_time": "2023-03-05T05:44:25.621Z"
   },
   {
    "duration": 262,
    "start_time": "2023-03-05T05:44:29.258Z"
   },
   {
    "duration": 269,
    "start_time": "2023-03-05T05:44:29.830Z"
   },
   {
    "duration": 5,
    "start_time": "2023-03-05T05:45:46.098Z"
   },
   {
    "duration": 29,
    "start_time": "2023-03-05T05:45:48.002Z"
   },
   {
    "duration": 27,
    "start_time": "2023-03-05T05:45:49.092Z"
   },
   {
    "duration": 12,
    "start_time": "2023-03-05T05:45:49.502Z"
   },
   {
    "duration": 16,
    "start_time": "2023-03-05T05:45:50.346Z"
   },
   {
    "duration": 10,
    "start_time": "2023-03-05T05:45:56.889Z"
   },
   {
    "duration": 10,
    "start_time": "2023-03-05T05:46:02.491Z"
   },
   {
    "duration": 5,
    "start_time": "2023-03-05T05:54:57.825Z"
   },
   {
    "duration": 4,
    "start_time": "2023-03-05T05:54:58.739Z"
   },
   {
    "duration": 4,
    "start_time": "2023-03-05T05:54:59.231Z"
   },
   {
    "duration": 4,
    "start_time": "2023-03-05T05:55:01.928Z"
   },
   {
    "duration": 56873,
    "start_time": "2023-03-05T05:55:06.019Z"
   },
   {
    "duration": 78,
    "start_time": "2023-03-05T05:56:02.894Z"
   },
   {
    "duration": 49,
    "start_time": "2023-03-05T05:56:02.974Z"
   },
   {
    "duration": 11,
    "start_time": "2023-03-05T06:24:05.251Z"
   },
   {
    "duration": 23558,
    "start_time": "2023-03-05T06:24:05.950Z"
   },
   {
    "duration": 4,
    "start_time": "2023-03-05T06:26:22.739Z"
   },
   {
    "duration": 3102,
    "start_time": "2023-03-05T06:26:25.605Z"
   },
   {
    "duration": 8,
    "start_time": "2023-03-05T06:26:41.744Z"
   },
   {
    "duration": 34,
    "start_time": "2023-03-05T06:26:52.509Z"
   },
   {
    "duration": 4,
    "start_time": "2023-03-05T06:27:30.544Z"
   },
   {
    "duration": 4,
    "start_time": "2023-03-05T06:27:41.968Z"
   },
   {
    "duration": 4,
    "start_time": "2023-03-05T06:28:18.746Z"
   },
   {
    "duration": 4,
    "start_time": "2023-03-05T06:28:23.568Z"
   },
   {
    "duration": 3,
    "start_time": "2023-03-05T06:28:27.883Z"
   },
   {
    "duration": 3,
    "start_time": "2023-03-05T06:29:20.000Z"
   },
   {
    "duration": 17,
    "start_time": "2023-03-05T06:29:47.364Z"
   },
   {
    "duration": 4,
    "start_time": "2023-03-05T06:29:48.180Z"
   },
   {
    "duration": 23339,
    "start_time": "2023-03-05T06:29:52.660Z"
   },
   {
    "duration": 1595,
    "start_time": "2023-03-05T06:30:16.001Z"
   },
   {
    "duration": 36,
    "start_time": "2023-03-05T06:30:17.597Z"
   },
   {
    "duration": 17,
    "start_time": "2023-03-05T06:30:29.304Z"
   },
   {
    "duration": 4,
    "start_time": "2023-03-05T06:41:52.984Z"
   },
   {
    "duration": 53,
    "start_time": "2023-03-05T06:42:05.774Z"
   },
   {
    "duration": 4,
    "start_time": "2023-03-05T06:42:30.945Z"
   },
   {
    "duration": 16,
    "start_time": "2023-03-05T06:42:39.354Z"
   },
   {
    "duration": 31,
    "start_time": "2023-03-05T06:42:55.008Z"
   },
   {
    "duration": 4,
    "start_time": "2023-03-05T06:45:32.305Z"
   },
   {
    "duration": 3,
    "start_time": "2023-03-05T06:45:42.354Z"
   },
   {
    "duration": 31,
    "start_time": "2023-03-05T06:45:58.080Z"
   },
   {
    "duration": 4,
    "start_time": "2023-03-05T06:46:04.131Z"
   },
   {
    "duration": 145,
    "start_time": "2023-03-05T06:46:05.363Z"
   },
   {
    "duration": 2,
    "start_time": "2023-03-05T06:46:24.240Z"
   },
   {
    "duration": 13,
    "start_time": "2023-03-05T06:46:26.860Z"
   },
   {
    "duration": 4,
    "start_time": "2023-03-05T06:46:34.313Z"
   },
   {
    "duration": 8,
    "start_time": "2023-03-05T06:46:35.674Z"
   },
   {
    "duration": 5,
    "start_time": "2023-03-05T06:48:22.391Z"
   },
   {
    "duration": 31,
    "start_time": "2023-03-05T06:48:32.390Z"
   },
   {
    "duration": 27,
    "start_time": "2023-03-05T06:48:35.496Z"
   },
   {
    "duration": 10,
    "start_time": "2023-03-05T06:48:54.966Z"
   },
   {
    "duration": 3,
    "start_time": "2023-03-05T06:48:55.966Z"
   },
   {
    "duration": 91,
    "start_time": "2023-03-05T06:48:56.501Z"
   },
   {
    "duration": 5379,
    "start_time": "2023-03-05T06:48:59.323Z"
   },
   {
    "duration": 97,
    "start_time": "2023-03-05T06:49:07.004Z"
   },
   {
    "duration": 5364,
    "start_time": "2023-03-05T06:49:48.032Z"
   },
   {
    "duration": 89,
    "start_time": "2023-03-05T06:49:56.519Z"
   },
   {
    "duration": 4793,
    "start_time": "2023-03-05T06:50:00.005Z"
   },
   {
    "duration": 13,
    "start_time": "2023-03-05T06:50:06.238Z"
   },
   {
    "duration": 93,
    "start_time": "2023-03-05T06:50:21.808Z"
   },
   {
    "duration": 14,
    "start_time": "2023-03-05T06:50:45.846Z"
   },
   {
    "duration": 46,
    "start_time": "2023-03-05T06:50:46.552Z"
   },
   {
    "duration": 10,
    "start_time": "2023-03-05T06:50:47.547Z"
   },
   {
    "duration": 45,
    "start_time": "2023-03-05T06:50:55.675Z"
   },
   {
    "duration": 80,
    "start_time": "2023-03-05T06:50:56.422Z"
   },
   {
    "duration": 12,
    "start_time": "2023-03-05T06:50:57.505Z"
   },
   {
    "duration": 13,
    "start_time": "2023-03-05T06:51:02.339Z"
   },
   {
    "duration": 11,
    "start_time": "2023-03-05T06:51:03.465Z"
   },
   {
    "duration": 14,
    "start_time": "2023-03-05T06:51:03.905Z"
   },
   {
    "duration": 26,
    "start_time": "2023-03-05T06:51:09.574Z"
   },
   {
    "duration": 27,
    "start_time": "2023-03-05T06:51:09.974Z"
   },
   {
    "duration": 18,
    "start_time": "2023-03-05T06:51:10.822Z"
   },
   {
    "duration": 3335,
    "start_time": "2023-03-05T06:51:15.361Z"
   },
   {
    "duration": 38,
    "start_time": "2023-03-05T06:51:19.365Z"
   },
   {
    "duration": 86,
    "start_time": "2023-03-05T06:51:20.313Z"
   },
   {
    "duration": 107,
    "start_time": "2023-03-05T06:51:24.784Z"
   },
   {
    "duration": 90,
    "start_time": "2023-03-05T06:51:25.808Z"
   },
   {
    "duration": 13,
    "start_time": "2023-03-05T06:51:26.833Z"
   },
   {
    "duration": 221,
    "start_time": "2023-03-05T06:51:34.087Z"
   },
   {
    "duration": 104,
    "start_time": "2023-03-05T06:51:34.994Z"
   },
   {
    "duration": 18,
    "start_time": "2023-03-05T06:51:35.994Z"
   },
   {
    "duration": 104,
    "start_time": "2023-03-05T06:51:41.497Z"
   },
   {
    "duration": 30,
    "start_time": "2023-03-05T06:51:42.161Z"
   },
   {
    "duration": 11,
    "start_time": "2023-03-05T06:51:42.954Z"
   },
   {
    "duration": 18,
    "start_time": "2023-03-05T06:51:47.626Z"
   },
   {
    "duration": 24,
    "start_time": "2023-03-05T06:51:48.178Z"
   },
   {
    "duration": 12,
    "start_time": "2023-03-05T06:51:48.804Z"
   },
   {
    "duration": 22,
    "start_time": "2023-03-05T06:51:53.283Z"
   },
   {
    "duration": 11,
    "start_time": "2023-03-05T06:51:53.719Z"
   },
   {
    "duration": 11,
    "start_time": "2023-03-05T06:51:54.366Z"
   },
   {
    "duration": 120,
    "start_time": "2023-03-05T06:52:17.397Z"
   },
   {
    "duration": 105,
    "start_time": "2023-03-05T06:52:18.303Z"
   },
   {
    "duration": 22,
    "start_time": "2023-03-05T06:52:19.082Z"
   },
   {
    "duration": 15,
    "start_time": "2023-03-05T06:52:23.605Z"
   },
   {
    "duration": 15,
    "start_time": "2023-03-05T06:52:27.103Z"
   },
   {
    "duration": 12,
    "start_time": "2023-03-05T06:52:27.874Z"
   },
   {
    "duration": 68,
    "start_time": "2023-03-05T06:52:40.327Z"
   },
   {
    "duration": 329,
    "start_time": "2023-03-05T06:52:43.191Z"
   },
   {
    "duration": 16,
    "start_time": "2023-03-05T06:52:50.036Z"
   },
   {
    "duration": 11,
    "start_time": "2023-03-05T06:52:51.052Z"
   },
   {
    "duration": 11,
    "start_time": "2023-03-05T06:52:51.875Z"
   },
   {
    "duration": 12,
    "start_time": "2023-03-05T06:52:57.055Z"
   },
   {
    "duration": 21,
    "start_time": "2023-03-05T06:52:57.591Z"
   },
   {
    "duration": 11,
    "start_time": "2023-03-05T06:52:58.270Z"
   },
   {
    "duration": 13,
    "start_time": "2023-03-05T06:53:05.634Z"
   },
   {
    "duration": 11,
    "start_time": "2023-03-05T06:53:06.205Z"
   },
   {
    "duration": 11,
    "start_time": "2023-03-05T06:53:06.754Z"
   },
   {
    "duration": 234,
    "start_time": "2023-03-05T06:54:22.028Z"
   },
   {
    "duration": 245,
    "start_time": "2023-03-05T06:54:26.628Z"
   },
   {
    "duration": 281,
    "start_time": "2023-03-05T06:54:41.795Z"
   },
   {
    "duration": 203,
    "start_time": "2023-03-05T06:55:01.528Z"
   },
   {
    "duration": 322,
    "start_time": "2023-03-05T06:55:06.158Z"
   },
   {
    "duration": 376,
    "start_time": "2023-03-05T06:55:13.071Z"
   },
   {
    "duration": 341,
    "start_time": "2023-03-05T06:55:18.374Z"
   },
   {
    "duration": 290,
    "start_time": "2023-03-05T06:55:30.627Z"
   },
   {
    "duration": 337,
    "start_time": "2023-03-05T06:55:36.257Z"
   },
   {
    "duration": 329,
    "start_time": "2023-03-05T06:55:40.481Z"
   },
   {
    "duration": 429,
    "start_time": "2023-03-05T06:56:14.790Z"
   },
   {
    "duration": 279,
    "start_time": "2023-03-05T06:56:25.194Z"
   },
   {
    "duration": 314,
    "start_time": "2023-03-05T06:56:39.459Z"
   },
   {
    "duration": 285,
    "start_time": "2023-03-05T06:56:48.209Z"
   },
   {
    "duration": 277,
    "start_time": "2023-03-05T06:56:52.636Z"
   },
   {
    "duration": 50,
    "start_time": "2023-03-05T09:33:23.909Z"
   },
   {
    "duration": 4797,
    "start_time": "2023-03-05T09:38:51.572Z"
   },
   {
    "duration": 1634,
    "start_time": "2023-03-05T09:38:56.372Z"
   },
   {
    "duration": 2,
    "start_time": "2023-03-05T09:38:58.008Z"
   },
   {
    "duration": 138,
    "start_time": "2023-03-05T09:38:58.012Z"
   },
   {
    "duration": 15,
    "start_time": "2023-03-05T09:38:58.152Z"
   },
   {
    "duration": 10,
    "start_time": "2023-03-05T09:38:58.169Z"
   },
   {
    "duration": 3,
    "start_time": "2023-03-05T09:38:58.181Z"
   },
   {
    "duration": 12,
    "start_time": "2023-03-05T09:38:58.186Z"
   },
   {
    "duration": 11,
    "start_time": "2023-03-05T09:38:58.224Z"
   },
   {
    "duration": 7,
    "start_time": "2023-03-05T09:38:58.237Z"
   },
   {
    "duration": 986,
    "start_time": "2023-03-05T09:38:58.246Z"
   },
   {
    "duration": 254,
    "start_time": "2023-03-05T09:38:59.234Z"
   },
   {
    "duration": 280,
    "start_time": "2023-03-05T09:38:59.490Z"
   },
   {
    "duration": 4,
    "start_time": "2023-03-05T09:38:59.773Z"
   },
   {
    "duration": 25,
    "start_time": "2023-03-05T09:38:59.778Z"
   },
   {
    "duration": 41,
    "start_time": "2023-03-05T09:38:59.805Z"
   },
   {
    "duration": 9,
    "start_time": "2023-03-05T09:38:59.848Z"
   },
   {
    "duration": 20,
    "start_time": "2023-03-05T09:38:59.859Z"
   },
   {
    "duration": 7,
    "start_time": "2023-03-05T09:38:59.881Z"
   },
   {
    "duration": 7,
    "start_time": "2023-03-05T09:38:59.890Z"
   },
   {
    "duration": 5,
    "start_time": "2023-03-05T09:38:59.924Z"
   },
   {
    "duration": 8,
    "start_time": "2023-03-05T09:38:59.931Z"
   },
   {
    "duration": 6,
    "start_time": "2023-03-05T09:38:59.940Z"
   },
   {
    "duration": 6,
    "start_time": "2023-03-05T09:38:59.947Z"
   },
   {
    "duration": 65085,
    "start_time": "2023-03-05T09:38:59.955Z"
   },
   {
    "duration": 89,
    "start_time": "2023-03-05T09:40:05.042Z"
   },
   {
    "duration": 41,
    "start_time": "2023-03-05T09:40:05.133Z"
   },
   {
    "duration": 12,
    "start_time": "2023-03-05T09:40:05.176Z"
   },
   {
    "duration": 30937,
    "start_time": "2023-03-05T09:40:05.190Z"
   },
   {
    "duration": 4,
    "start_time": "2023-03-05T09:40:36.129Z"
   },
   {
    "duration": 3399,
    "start_time": "2023-03-05T09:40:36.136Z"
   },
   {
    "duration": 10,
    "start_time": "2023-03-05T09:40:39.537Z"
   },
   {
    "duration": 53,
    "start_time": "2023-03-05T09:40:39.548Z"
   },
   {
    "duration": 4,
    "start_time": "2023-03-05T09:40:39.603Z"
   },
   {
    "duration": 28,
    "start_time": "2023-03-05T09:40:39.609Z"
   },
   {
    "duration": 5,
    "start_time": "2023-03-05T09:40:39.639Z"
   },
   {
    "duration": 29590,
    "start_time": "2023-03-05T09:40:39.646Z"
   },
   {
    "duration": 2794,
    "start_time": "2023-03-05T09:41:09.237Z"
   },
   {
    "duration": 40,
    "start_time": "2023-03-05T09:41:12.033Z"
   },
   {
    "duration": 62,
    "start_time": "2023-03-05T09:41:12.075Z"
   },
   {
    "duration": 64,
    "start_time": "2023-03-05T09:58:30.506Z"
   },
   {
    "duration": 149,
    "start_time": "2023-03-05T09:58:46.636Z"
   },
   {
    "duration": 14,
    "start_time": "2023-03-05T10:00:33.463Z"
   },
   {
    "duration": 17,
    "start_time": "2023-03-05T10:00:53.775Z"
   },
   {
    "duration": 4671,
    "start_time": "2023-03-05T10:07:44.416Z"
   },
   {
    "duration": 6,
    "start_time": "2023-03-05T10:07:49.090Z"
   },
   {
    "duration": 6,
    "start_time": "2023-03-05T10:07:49.098Z"
   },
   {
    "duration": 90,
    "start_time": "2023-03-05T10:07:49.107Z"
   },
   {
    "duration": 12,
    "start_time": "2023-03-05T10:07:49.199Z"
   },
   {
    "duration": 11,
    "start_time": "2023-03-05T10:07:49.213Z"
   },
   {
    "duration": 4,
    "start_time": "2023-03-05T10:07:49.225Z"
   },
   {
    "duration": 9,
    "start_time": "2023-03-05T10:07:49.231Z"
   },
   {
    "duration": 13,
    "start_time": "2023-03-05T10:07:49.242Z"
   },
   {
    "duration": 7,
    "start_time": "2023-03-05T10:07:49.258Z"
   },
   {
    "duration": 809,
    "start_time": "2023-03-05T10:07:49.267Z"
   },
   {
    "duration": 303,
    "start_time": "2023-03-05T10:07:50.078Z"
   },
   {
    "duration": 300,
    "start_time": "2023-03-05T10:07:50.383Z"
   },
   {
    "duration": 4,
    "start_time": "2023-03-05T10:07:50.685Z"
   },
   {
    "duration": 15,
    "start_time": "2023-03-05T10:07:50.690Z"
   },
   {
    "duration": 28,
    "start_time": "2023-03-05T10:07:50.707Z"
   },
   {
    "duration": 8,
    "start_time": "2023-03-05T10:07:50.737Z"
   },
   {
    "duration": 13,
    "start_time": "2023-03-05T10:07:50.746Z"
   },
   {
    "duration": 9,
    "start_time": "2023-03-05T10:07:50.761Z"
   },
   {
    "duration": 7,
    "start_time": "2023-03-05T10:07:50.772Z"
   },
   {
    "duration": 47,
    "start_time": "2023-03-05T10:07:50.781Z"
   },
   {
    "duration": 142,
    "start_time": "2023-03-05T10:07:50.830Z"
   },
   {
    "duration": 0,
    "start_time": "2023-03-05T10:07:50.974Z"
   },
   {
    "duration": 0,
    "start_time": "2023-03-05T10:07:50.976Z"
   },
   {
    "duration": 0,
    "start_time": "2023-03-05T10:07:50.977Z"
   },
   {
    "duration": 0,
    "start_time": "2023-03-05T10:07:50.979Z"
   },
   {
    "duration": 0,
    "start_time": "2023-03-05T10:07:50.981Z"
   },
   {
    "duration": 0,
    "start_time": "2023-03-05T10:07:50.982Z"
   },
   {
    "duration": 0,
    "start_time": "2023-03-05T10:07:50.984Z"
   },
   {
    "duration": 0,
    "start_time": "2023-03-05T10:07:50.985Z"
   },
   {
    "duration": 0,
    "start_time": "2023-03-05T10:07:50.986Z"
   },
   {
    "duration": 0,
    "start_time": "2023-03-05T10:07:50.987Z"
   },
   {
    "duration": 0,
    "start_time": "2023-03-05T10:07:50.988Z"
   },
   {
    "duration": 0,
    "start_time": "2023-03-05T10:07:50.989Z"
   },
   {
    "duration": 0,
    "start_time": "2023-03-05T10:07:50.991Z"
   },
   {
    "duration": 0,
    "start_time": "2023-03-05T10:07:51.024Z"
   },
   {
    "duration": 0,
    "start_time": "2023-03-05T10:07:51.025Z"
   },
   {
    "duration": 0,
    "start_time": "2023-03-05T10:07:51.026Z"
   },
   {
    "duration": 0,
    "start_time": "2023-03-05T10:07:51.028Z"
   },
   {
    "duration": 0,
    "start_time": "2023-03-05T10:07:51.029Z"
   },
   {
    "duration": 0,
    "start_time": "2023-03-05T10:07:51.029Z"
   },
   {
    "duration": 0,
    "start_time": "2023-03-05T10:07:51.031Z"
   },
   {
    "duration": 0,
    "start_time": "2023-03-05T10:07:51.032Z"
   },
   {
    "duration": 7,
    "start_time": "2023-03-05T10:08:54.479Z"
   },
   {
    "duration": 7,
    "start_time": "2023-03-05T10:09:17.983Z"
   },
   {
    "duration": 4603,
    "start_time": "2023-03-05T10:09:50.079Z"
   },
   {
    "duration": 6,
    "start_time": "2023-03-05T10:09:54.685Z"
   },
   {
    "duration": 5,
    "start_time": "2023-03-05T10:09:54.692Z"
   },
   {
    "duration": 109,
    "start_time": "2023-03-05T10:09:54.699Z"
   },
   {
    "duration": 12,
    "start_time": "2023-03-05T10:09:54.810Z"
   },
   {
    "duration": 10,
    "start_time": "2023-03-05T10:09:54.824Z"
   },
   {
    "duration": 4,
    "start_time": "2023-03-05T10:09:54.835Z"
   },
   {
    "duration": 13,
    "start_time": "2023-03-05T10:09:54.841Z"
   },
   {
    "duration": 12,
    "start_time": "2023-03-05T10:09:54.855Z"
   },
   {
    "duration": 6,
    "start_time": "2023-03-05T10:09:54.868Z"
   },
   {
    "duration": 803,
    "start_time": "2023-03-05T10:09:54.876Z"
   },
   {
    "duration": 276,
    "start_time": "2023-03-05T10:09:55.681Z"
   },
   {
    "duration": 305,
    "start_time": "2023-03-05T10:09:55.959Z"
   },
   {
    "duration": 4,
    "start_time": "2023-03-05T10:09:56.267Z"
   },
   {
    "duration": 11,
    "start_time": "2023-03-05T10:09:56.273Z"
   },
   {
    "duration": 12,
    "start_time": "2023-03-05T10:09:56.286Z"
   },
   {
    "duration": 8,
    "start_time": "2023-03-05T10:09:56.325Z"
   },
   {
    "duration": 16,
    "start_time": "2023-03-05T10:09:56.335Z"
   },
   {
    "duration": 8,
    "start_time": "2023-03-05T10:09:56.353Z"
   },
   {
    "duration": 11,
    "start_time": "2023-03-05T10:09:56.363Z"
   },
   {
    "duration": 5,
    "start_time": "2023-03-05T10:09:56.376Z"
   },
   {
    "duration": 62,
    "start_time": "2023-03-05T10:09:56.382Z"
   },
   {
    "duration": 0,
    "start_time": "2023-03-05T10:09:56.446Z"
   },
   {
    "duration": 0,
    "start_time": "2023-03-05T10:09:56.447Z"
   },
   {
    "duration": 0,
    "start_time": "2023-03-05T10:09:56.448Z"
   },
   {
    "duration": 0,
    "start_time": "2023-03-05T10:09:56.449Z"
   },
   {
    "duration": 0,
    "start_time": "2023-03-05T10:09:56.451Z"
   },
   {
    "duration": 0,
    "start_time": "2023-03-05T10:09:56.452Z"
   },
   {
    "duration": 0,
    "start_time": "2023-03-05T10:09:56.453Z"
   },
   {
    "duration": 0,
    "start_time": "2023-03-05T10:09:56.454Z"
   },
   {
    "duration": 0,
    "start_time": "2023-03-05T10:09:56.455Z"
   },
   {
    "duration": 0,
    "start_time": "2023-03-05T10:09:56.456Z"
   },
   {
    "duration": 0,
    "start_time": "2023-03-05T10:09:56.457Z"
   },
   {
    "duration": 0,
    "start_time": "2023-03-05T10:09:56.458Z"
   },
   {
    "duration": 0,
    "start_time": "2023-03-05T10:09:56.459Z"
   },
   {
    "duration": 0,
    "start_time": "2023-03-05T10:09:56.460Z"
   },
   {
    "duration": 0,
    "start_time": "2023-03-05T10:09:56.461Z"
   },
   {
    "duration": 0,
    "start_time": "2023-03-05T10:09:56.462Z"
   },
   {
    "duration": 0,
    "start_time": "2023-03-05T10:09:56.463Z"
   },
   {
    "duration": 0,
    "start_time": "2023-03-05T10:09:56.464Z"
   },
   {
    "duration": 0,
    "start_time": "2023-03-05T10:09:56.465Z"
   },
   {
    "duration": 0,
    "start_time": "2023-03-05T10:09:56.466Z"
   },
   {
    "duration": 0,
    "start_time": "2023-03-05T10:09:56.468Z"
   },
   {
    "duration": 15,
    "start_time": "2023-03-05T10:11:24.602Z"
   },
   {
    "duration": 30,
    "start_time": "2023-03-05T10:11:39.524Z"
   },
   {
    "duration": 5894,
    "start_time": "2023-03-05T10:16:19.471Z"
   },
   {
    "duration": 36,
    "start_time": "2023-03-05T10:16:35.058Z"
   },
   {
    "duration": 4596,
    "start_time": "2023-03-05T10:19:24.986Z"
   },
   {
    "duration": 2721,
    "start_time": "2023-03-05T10:19:29.585Z"
   },
   {
    "duration": 5,
    "start_time": "2023-03-05T10:19:32.309Z"
   },
   {
    "duration": 37,
    "start_time": "2023-03-05T10:19:32.316Z"
   },
   {
    "duration": 86,
    "start_time": "2023-03-05T10:19:32.355Z"
   },
   {
    "duration": 12,
    "start_time": "2023-03-05T10:19:32.443Z"
   },
   {
    "duration": 36,
    "start_time": "2023-03-05T10:19:32.456Z"
   },
   {
    "duration": 4,
    "start_time": "2023-03-05T10:19:32.494Z"
   },
   {
    "duration": 25,
    "start_time": "2023-03-05T10:19:32.499Z"
   },
   {
    "duration": 13,
    "start_time": "2023-03-05T10:19:32.528Z"
   },
   {
    "duration": 11,
    "start_time": "2023-03-05T10:19:32.543Z"
   },
   {
    "duration": 719,
    "start_time": "2023-03-05T10:19:32.555Z"
   },
   {
    "duration": 275,
    "start_time": "2023-03-05T10:19:33.275Z"
   },
   {
    "duration": 413,
    "start_time": "2023-03-05T10:19:33.551Z"
   },
   {
    "duration": 4,
    "start_time": "2023-03-05T10:19:33.966Z"
   },
   {
    "duration": 10,
    "start_time": "2023-03-05T10:19:33.971Z"
   },
   {
    "duration": 11,
    "start_time": "2023-03-05T10:19:33.982Z"
   },
   {
    "duration": 29,
    "start_time": "2023-03-05T10:19:33.995Z"
   },
   {
    "duration": 12,
    "start_time": "2023-03-05T10:19:34.025Z"
   },
   {
    "duration": 8,
    "start_time": "2023-03-05T10:19:34.038Z"
   },
   {
    "duration": 7,
    "start_time": "2023-03-05T10:19:34.047Z"
   },
   {
    "duration": 11,
    "start_time": "2023-03-05T10:19:34.055Z"
   },
   {
    "duration": 66,
    "start_time": "2023-03-05T10:19:34.069Z"
   },
   {
    "duration": 0,
    "start_time": "2023-03-05T10:19:34.137Z"
   },
   {
    "duration": 0,
    "start_time": "2023-03-05T10:19:34.139Z"
   },
   {
    "duration": 0,
    "start_time": "2023-03-05T10:19:34.141Z"
   },
   {
    "duration": 0,
    "start_time": "2023-03-05T10:19:34.142Z"
   },
   {
    "duration": 0,
    "start_time": "2023-03-05T10:19:34.144Z"
   },
   {
    "duration": 0,
    "start_time": "2023-03-05T10:19:34.146Z"
   },
   {
    "duration": 0,
    "start_time": "2023-03-05T10:19:34.148Z"
   },
   {
    "duration": 0,
    "start_time": "2023-03-05T10:19:34.149Z"
   },
   {
    "duration": 0,
    "start_time": "2023-03-05T10:19:34.150Z"
   },
   {
    "duration": 0,
    "start_time": "2023-03-05T10:19:34.152Z"
   },
   {
    "duration": 0,
    "start_time": "2023-03-05T10:19:34.154Z"
   },
   {
    "duration": 0,
    "start_time": "2023-03-05T10:19:34.155Z"
   },
   {
    "duration": 0,
    "start_time": "2023-03-05T10:19:34.156Z"
   },
   {
    "duration": 0,
    "start_time": "2023-03-05T10:19:34.157Z"
   },
   {
    "duration": 0,
    "start_time": "2023-03-05T10:19:34.159Z"
   },
   {
    "duration": 0,
    "start_time": "2023-03-05T10:19:34.161Z"
   },
   {
    "duration": 0,
    "start_time": "2023-03-05T10:19:34.162Z"
   },
   {
    "duration": 0,
    "start_time": "2023-03-05T10:19:34.163Z"
   },
   {
    "duration": 0,
    "start_time": "2023-03-05T10:19:34.164Z"
   },
   {
    "duration": 0,
    "start_time": "2023-03-05T10:19:34.165Z"
   },
   {
    "duration": 0,
    "start_time": "2023-03-05T10:19:34.167Z"
   },
   {
    "duration": 4,
    "start_time": "2023-03-05T10:23:36.332Z"
   },
   {
    "duration": 5,
    "start_time": "2023-03-05T10:23:38.592Z"
   },
   {
    "duration": 12,
    "start_time": "2023-03-05T10:23:40.779Z"
   },
   {
    "duration": 4619,
    "start_time": "2023-03-05T10:25:25.279Z"
   },
   {
    "duration": 2747,
    "start_time": "2023-03-05T10:25:29.900Z"
   },
   {
    "duration": 5,
    "start_time": "2023-03-05T10:25:32.650Z"
   },
   {
    "duration": 10,
    "start_time": "2023-03-05T10:25:32.657Z"
   },
   {
    "duration": 81,
    "start_time": "2023-03-05T10:25:32.670Z"
   },
   {
    "duration": 13,
    "start_time": "2023-03-05T10:25:32.753Z"
   },
   {
    "duration": 10,
    "start_time": "2023-03-05T10:25:32.768Z"
   },
   {
    "duration": 3,
    "start_time": "2023-03-05T10:25:32.779Z"
   },
   {
    "duration": 12,
    "start_time": "2023-03-05T10:25:32.784Z"
   },
   {
    "duration": 33,
    "start_time": "2023-03-05T10:25:32.797Z"
   },
   {
    "duration": 9,
    "start_time": "2023-03-05T10:25:32.832Z"
   },
   {
    "duration": 812,
    "start_time": "2023-03-05T10:25:32.843Z"
   },
   {
    "duration": 305,
    "start_time": "2023-03-05T10:25:33.657Z"
   },
   {
    "duration": 317,
    "start_time": "2023-03-05T10:25:33.965Z"
   },
   {
    "duration": 6,
    "start_time": "2023-03-05T10:25:34.284Z"
   },
   {
    "duration": 11,
    "start_time": "2023-03-05T10:25:34.292Z"
   },
   {
    "duration": 32,
    "start_time": "2023-03-05T10:25:34.305Z"
   },
   {
    "duration": 21,
    "start_time": "2023-03-05T10:25:34.340Z"
   },
   {
    "duration": 11,
    "start_time": "2023-03-05T10:25:34.363Z"
   },
   {
    "duration": 8,
    "start_time": "2023-03-05T10:25:34.376Z"
   },
   {
    "duration": 7,
    "start_time": "2023-03-05T10:25:34.386Z"
   },
   {
    "duration": 30,
    "start_time": "2023-03-05T10:25:34.394Z"
   },
   {
    "duration": 4,
    "start_time": "2023-03-05T10:25:34.427Z"
   },
   {
    "duration": 5,
    "start_time": "2023-03-05T10:25:52.199Z"
   },
   {
    "duration": 14,
    "start_time": "2023-03-05T10:26:09.433Z"
   },
   {
    "duration": 4,
    "start_time": "2023-03-05T10:26:21.713Z"
   },
   {
    "duration": 24,
    "start_time": "2023-03-05T10:26:27.475Z"
   },
   {
    "duration": 32,
    "start_time": "2023-03-05T10:27:39.076Z"
   },
   {
    "duration": 10,
    "start_time": "2023-03-05T10:27:47.431Z"
   },
   {
    "duration": 3,
    "start_time": "2023-03-05T10:41:29.916Z"
   },
   {
    "duration": 6,
    "start_time": "2023-03-05T10:41:31.457Z"
   },
   {
    "duration": 10,
    "start_time": "2023-03-05T10:41:32.239Z"
   },
   {
    "duration": 13,
    "start_time": "2023-03-05T10:41:55.075Z"
   },
   {
    "duration": 19,
    "start_time": "2023-03-05T10:41:58.928Z"
   },
   {
    "duration": 4,
    "start_time": "2023-03-05T10:43:08.156Z"
   },
   {
    "duration": 5,
    "start_time": "2023-03-05T10:43:09.571Z"
   },
   {
    "duration": 14,
    "start_time": "2023-03-05T10:43:10.178Z"
   },
   {
    "duration": 9,
    "start_time": "2023-03-05T10:43:16.085Z"
   },
   {
    "duration": 8,
    "start_time": "2023-03-05T10:43:23.127Z"
   },
   {
    "duration": 4599,
    "start_time": "2023-03-05T10:44:23.577Z"
   },
   {
    "duration": 2805,
    "start_time": "2023-03-05T10:44:28.179Z"
   },
   {
    "duration": 1436,
    "start_time": "2023-03-05T10:44:30.986Z"
   },
   {
    "duration": 2,
    "start_time": "2023-03-05T10:44:32.424Z"
   },
   {
    "duration": 180,
    "start_time": "2023-03-05T10:44:32.428Z"
   },
   {
    "duration": 14,
    "start_time": "2023-03-05T10:44:32.609Z"
   },
   {
    "duration": 30,
    "start_time": "2023-03-05T10:44:32.625Z"
   },
   {
    "duration": 24,
    "start_time": "2023-03-05T10:44:32.657Z"
   },
   {
    "duration": 12,
    "start_time": "2023-03-05T10:44:32.683Z"
   },
   {
    "duration": 10,
    "start_time": "2023-03-05T10:44:32.697Z"
   },
   {
    "duration": 9,
    "start_time": "2023-03-05T10:44:32.708Z"
   },
   {
    "duration": 733,
    "start_time": "2023-03-05T10:44:32.719Z"
   },
   {
    "duration": 399,
    "start_time": "2023-03-05T10:44:33.453Z"
   },
   {
    "duration": 305,
    "start_time": "2023-03-05T10:44:33.856Z"
   },
   {
    "duration": 4,
    "start_time": "2023-03-05T10:44:34.163Z"
   },
   {
    "duration": 29,
    "start_time": "2023-03-05T10:44:34.169Z"
   },
   {
    "duration": 57,
    "start_time": "2023-03-05T10:44:34.200Z"
   },
   {
    "duration": 9,
    "start_time": "2023-03-05T10:44:34.259Z"
   },
   {
    "duration": 12,
    "start_time": "2023-03-05T10:44:34.270Z"
   },
   {
    "duration": 8,
    "start_time": "2023-03-05T10:44:34.284Z"
   },
   {
    "duration": 39,
    "start_time": "2023-03-05T10:44:34.294Z"
   },
   {
    "duration": 6,
    "start_time": "2023-03-05T10:44:34.335Z"
   },
   {
    "duration": 5,
    "start_time": "2023-03-05T10:44:34.343Z"
   },
   {
    "duration": 6,
    "start_time": "2023-03-05T10:44:34.350Z"
   },
   {
    "duration": 15,
    "start_time": "2023-03-05T10:44:34.358Z"
   },
   {
    "duration": 161,
    "start_time": "2023-03-05T10:44:34.375Z"
   },
   {
    "duration": 92,
    "start_time": "2023-03-05T10:44:34.538Z"
   },
   {
    "duration": 6,
    "start_time": "2023-03-05T10:44:34.632Z"
   },
   {
    "duration": 5,
    "start_time": "2023-03-05T10:44:34.640Z"
   },
   {
    "duration": 6,
    "start_time": "2023-03-05T10:44:34.646Z"
   },
   {
    "duration": 70409,
    "start_time": "2023-03-05T10:44:34.654Z"
   },
   {
    "duration": 88,
    "start_time": "2023-03-05T10:45:45.065Z"
   },
   {
    "duration": 41,
    "start_time": "2023-03-05T10:45:45.155Z"
   },
   {
    "duration": 29,
    "start_time": "2023-03-05T10:45:45.198Z"
   },
   {
    "duration": 24410,
    "start_time": "2023-03-05T10:45:45.229Z"
   },
   {
    "duration": 4,
    "start_time": "2023-03-05T10:46:09.641Z"
   },
   {
    "duration": 3270,
    "start_time": "2023-03-05T10:46:09.646Z"
   },
   {
    "duration": 9,
    "start_time": "2023-03-05T10:46:12.918Z"
   },
   {
    "duration": 39,
    "start_time": "2023-03-05T10:46:12.928Z"
   },
   {
    "duration": 4,
    "start_time": "2023-03-05T10:46:12.968Z"
   },
   {
    "duration": 19,
    "start_time": "2023-03-05T10:46:12.975Z"
   },
   {
    "duration": 5,
    "start_time": "2023-03-05T10:46:12.995Z"
   },
   {
    "duration": 29405,
    "start_time": "2023-03-05T10:46:13.024Z"
   },
   {
    "duration": 2214,
    "start_time": "2023-03-05T10:46:42.430Z"
   },
   {
    "duration": 125,
    "start_time": "2023-03-05T10:46:44.646Z"
   },
   {
    "duration": 51,
    "start_time": "2023-03-05T10:46:44.773Z"
   },
   {
    "duration": 5,
    "start_time": "2023-03-05T11:04:20.779Z"
   },
   {
    "duration": 4,
    "start_time": "2023-03-05T11:04:41.389Z"
   },
   {
    "duration": 139,
    "start_time": "2023-03-05T11:05:01.579Z"
   },
   {
    "duration": 31,
    "start_time": "2023-03-05T11:05:08.729Z"
   },
   {
    "duration": 33,
    "start_time": "2023-03-05T11:05:19.182Z"
   },
   {
    "duration": 6,
    "start_time": "2023-03-05T11:06:00.201Z"
   },
   {
    "duration": 4,
    "start_time": "2023-03-05T11:08:12.487Z"
   },
   {
    "duration": 730,
    "start_time": "2023-03-05T11:08:53.482Z"
   },
   {
    "duration": 758,
    "start_time": "2023-03-05T11:09:03.580Z"
   },
   {
    "duration": 12,
    "start_time": "2023-03-05T11:10:12.731Z"
   },
   {
    "duration": 9,
    "start_time": "2023-03-05T11:11:17.099Z"
   },
   {
    "duration": 33,
    "start_time": "2023-03-05T11:12:36.089Z"
   },
   {
    "duration": 27,
    "start_time": "2023-03-05T11:12:40.133Z"
   },
   {
    "duration": 50,
    "start_time": "2023-03-05T11:13:07.083Z"
   },
   {
    "duration": 12,
    "start_time": "2023-03-05T11:13:22.980Z"
   },
   {
    "duration": 53,
    "start_time": "2023-03-05T11:13:57.371Z"
   },
   {
    "duration": 44,
    "start_time": "2023-03-05T11:14:33.538Z"
   },
   {
    "duration": 15,
    "start_time": "2023-03-05T11:14:47.679Z"
   },
   {
    "duration": 25,
    "start_time": "2023-03-05T11:15:00.486Z"
   },
   {
    "duration": 15,
    "start_time": "2023-03-05T11:17:35.216Z"
   },
   {
    "duration": 3,
    "start_time": "2023-03-05T11:18:26.718Z"
   },
   {
    "duration": 10,
    "start_time": "2023-03-05T11:18:29.797Z"
   },
   {
    "duration": 221,
    "start_time": "2023-03-05T11:20:25.597Z"
   },
   {
    "duration": 534,
    "start_time": "2023-03-05T11:22:42.104Z"
   },
   {
    "duration": 617,
    "start_time": "2023-03-05T11:23:56.516Z"
   },
   {
    "duration": 533,
    "start_time": "2023-03-05T11:24:08.937Z"
   },
   {
    "duration": 646,
    "start_time": "2023-03-05T11:24:18.971Z"
   },
   {
    "duration": 259,
    "start_time": "2023-03-05T11:25:25.741Z"
   },
   {
    "duration": 327,
    "start_time": "2023-03-05T11:25:34.880Z"
   },
   {
    "duration": 406,
    "start_time": "2023-03-05T11:25:48.885Z"
   },
   {
    "duration": 344,
    "start_time": "2023-03-05T11:26:33.185Z"
   },
   {
    "duration": 328,
    "start_time": "2023-03-05T11:27:12.579Z"
   },
   {
    "duration": 389,
    "start_time": "2023-03-05T11:27:28.782Z"
   },
   {
    "duration": 318,
    "start_time": "2023-03-05T11:27:42.238Z"
   },
   {
    "duration": 357,
    "start_time": "2023-03-05T11:28:30.073Z"
   },
   {
    "duration": 361,
    "start_time": "2023-03-05T11:29:48.280Z"
   },
   {
    "duration": 4945,
    "start_time": "2023-03-05T11:37:10.299Z"
   },
   {
    "duration": 2778,
    "start_time": "2023-03-05T11:37:15.247Z"
   },
   {
    "duration": 1625,
    "start_time": "2023-03-05T11:37:18.029Z"
   },
   {
    "duration": 4,
    "start_time": "2023-03-05T11:37:19.656Z"
   },
   {
    "duration": 77,
    "start_time": "2023-03-05T11:37:19.664Z"
   },
   {
    "duration": 18,
    "start_time": "2023-03-05T11:37:19.743Z"
   },
   {
    "duration": 11,
    "start_time": "2023-03-05T11:37:19.764Z"
   },
   {
    "duration": 20,
    "start_time": "2023-03-05T11:37:19.777Z"
   },
   {
    "duration": 30,
    "start_time": "2023-03-05T11:37:19.798Z"
   },
   {
    "duration": 15,
    "start_time": "2023-03-05T11:37:19.831Z"
   },
   {
    "duration": 13,
    "start_time": "2023-03-05T11:37:19.848Z"
   },
   {
    "duration": 830,
    "start_time": "2023-03-05T11:37:19.863Z"
   },
   {
    "duration": 396,
    "start_time": "2023-03-05T11:37:20.695Z"
   },
   {
    "duration": 296,
    "start_time": "2023-03-05T11:37:21.094Z"
   },
   {
    "duration": 4,
    "start_time": "2023-03-05T11:37:21.392Z"
   },
   {
    "duration": 43,
    "start_time": "2023-03-05T11:37:21.398Z"
   },
   {
    "duration": 37,
    "start_time": "2023-03-05T11:37:21.443Z"
   },
   {
    "duration": 11,
    "start_time": "2023-03-05T11:37:21.482Z"
   },
   {
    "duration": 36,
    "start_time": "2023-03-05T11:37:21.496Z"
   },
   {
    "duration": 10,
    "start_time": "2023-03-05T11:37:21.535Z"
   },
   {
    "duration": 12,
    "start_time": "2023-03-05T11:37:21.547Z"
   },
   {
    "duration": 11,
    "start_time": "2023-03-05T11:37:21.561Z"
   },
   {
    "duration": 8,
    "start_time": "2023-03-05T11:37:21.574Z"
   },
   {
    "duration": 8,
    "start_time": "2023-03-05T11:37:21.584Z"
   },
   {
    "duration": 51,
    "start_time": "2023-03-05T11:37:21.594Z"
   },
   {
    "duration": 77,
    "start_time": "2023-03-05T11:37:21.648Z"
   },
   {
    "duration": 97,
    "start_time": "2023-03-05T11:37:21.729Z"
   },
   {
    "duration": 5,
    "start_time": "2023-03-05T11:37:21.828Z"
   },
   {
    "duration": 14,
    "start_time": "2023-03-05T11:37:21.834Z"
   },
   {
    "duration": 11,
    "start_time": "2023-03-05T11:37:21.850Z"
   },
   {
    "duration": 72370,
    "start_time": "2023-03-05T11:37:21.864Z"
   },
   {
    "duration": 120,
    "start_time": "2023-03-05T11:38:34.236Z"
   },
   {
    "duration": 72,
    "start_time": "2023-03-05T11:38:34.359Z"
   },
   {
    "duration": 18,
    "start_time": "2023-03-05T11:38:34.434Z"
   },
   {
    "duration": 28113,
    "start_time": "2023-03-05T11:38:34.454Z"
   },
   {
    "duration": 6,
    "start_time": "2023-03-05T11:39:02.569Z"
   },
   {
    "duration": 3964,
    "start_time": "2023-03-05T11:39:02.577Z"
   },
   {
    "duration": 11,
    "start_time": "2023-03-05T11:39:06.543Z"
   },
   {
    "duration": 43,
    "start_time": "2023-03-05T11:39:06.557Z"
   },
   {
    "duration": 5,
    "start_time": "2023-03-05T11:39:06.602Z"
   },
   {
    "duration": 22,
    "start_time": "2023-03-05T11:39:06.624Z"
   },
   {
    "duration": 4,
    "start_time": "2023-03-05T11:39:06.649Z"
   },
   {
    "duration": 764880,
    "start_time": "2023-03-05T11:39:06.655Z"
   },
   {
    "duration": 2188,
    "start_time": "2023-03-05T11:51:51.537Z"
   },
   {
    "duration": 43,
    "start_time": "2023-03-05T11:51:53.727Z"
   },
   {
    "duration": 57,
    "start_time": "2023-03-05T11:51:53.772Z"
   },
   {
    "duration": 3,
    "start_time": "2023-03-05T11:51:53.831Z"
   },
   {
    "duration": 397,
    "start_time": "2023-03-05T11:51:53.836Z"
   },
   {
    "duration": 5723,
    "start_time": "2023-03-05T15:55:44.686Z"
   },
   {
    "duration": 11507,
    "start_time": "2023-03-05T15:55:50.412Z"
   },
   {
    "duration": 1914,
    "start_time": "2023-03-05T15:56:01.921Z"
   },
   {
    "duration": 4,
    "start_time": "2023-03-05T15:56:03.837Z"
   },
   {
    "duration": 188,
    "start_time": "2023-03-05T15:56:03.844Z"
   },
   {
    "duration": 32,
    "start_time": "2023-03-05T15:56:04.034Z"
   },
   {
    "duration": 27,
    "start_time": "2023-03-05T15:56:04.079Z"
   },
   {
    "duration": 6,
    "start_time": "2023-03-05T15:56:04.108Z"
   },
   {
    "duration": 16,
    "start_time": "2023-03-05T15:56:04.116Z"
   },
   {
    "duration": 22,
    "start_time": "2023-03-05T15:56:04.134Z"
   },
   {
    "duration": 31,
    "start_time": "2023-03-05T15:56:04.158Z"
   },
   {
    "duration": 819,
    "start_time": "2023-03-05T15:56:04.195Z"
   },
   {
    "duration": 377,
    "start_time": "2023-03-05T15:56:05.016Z"
   },
   {
    "duration": 334,
    "start_time": "2023-03-05T15:56:05.398Z"
   },
   {
    "duration": 9,
    "start_time": "2023-03-05T15:56:05.733Z"
   },
   {
    "duration": 38,
    "start_time": "2023-03-05T15:56:05.752Z"
   },
   {
    "duration": 35,
    "start_time": "2023-03-05T15:56:05.800Z"
   },
   {
    "duration": 10,
    "start_time": "2023-03-05T15:56:05.837Z"
   },
   {
    "duration": 27,
    "start_time": "2023-03-05T15:56:05.857Z"
   },
   {
    "duration": 14,
    "start_time": "2023-03-05T15:56:05.886Z"
   },
   {
    "duration": 17,
    "start_time": "2023-03-05T15:56:05.902Z"
   },
   {
    "duration": 12,
    "start_time": "2023-03-05T15:56:05.921Z"
   },
   {
    "duration": 8,
    "start_time": "2023-03-05T15:56:05.935Z"
   },
   {
    "duration": 18,
    "start_time": "2023-03-05T15:56:05.945Z"
   },
   {
    "duration": 44,
    "start_time": "2023-03-05T15:56:05.965Z"
   },
   {
    "duration": 60,
    "start_time": "2023-03-05T15:56:06.012Z"
   },
   {
    "duration": 17,
    "start_time": "2023-03-05T15:56:06.091Z"
   },
   {
    "duration": 23,
    "start_time": "2023-03-05T15:56:06.173Z"
   },
   {
    "duration": 10,
    "start_time": "2023-03-05T15:56:06.206Z"
   },
   {
    "duration": 7,
    "start_time": "2023-03-05T15:56:06.218Z"
   },
   {
    "duration": 77894,
    "start_time": "2023-03-05T15:56:06.227Z"
   },
   {
    "duration": 103,
    "start_time": "2023-03-05T15:57:24.123Z"
   },
   {
    "duration": 78,
    "start_time": "2023-03-05T15:57:24.228Z"
   },
   {
    "duration": 18,
    "start_time": "2023-03-05T15:57:24.308Z"
   },
   {
    "duration": 36008,
    "start_time": "2023-03-05T15:57:24.328Z"
   },
   {
    "duration": 30,
    "start_time": "2023-03-05T15:58:00.339Z"
   },
   {
    "duration": 4617,
    "start_time": "2023-03-05T15:58:00.375Z"
   },
   {
    "duration": 12,
    "start_time": "2023-03-05T15:58:04.999Z"
   },
   {
    "duration": 105,
    "start_time": "2023-03-05T15:58:05.014Z"
   },
   {
    "duration": 11,
    "start_time": "2023-03-05T15:58:05.121Z"
   },
   {
    "duration": 68,
    "start_time": "2023-03-05T15:58:05.137Z"
   },
   {
    "duration": 18,
    "start_time": "2023-03-05T15:58:05.207Z"
   },
   {
    "duration": 5242,
    "start_time": "2023-03-05T16:18:08.433Z"
   },
   {
    "duration": 3557,
    "start_time": "2023-03-05T16:18:13.678Z"
   },
   {
    "duration": 1814,
    "start_time": "2023-03-05T16:18:17.238Z"
   },
   {
    "duration": 3,
    "start_time": "2023-03-05T16:18:19.055Z"
   },
   {
    "duration": 104,
    "start_time": "2023-03-05T16:18:19.060Z"
   },
   {
    "duration": 23,
    "start_time": "2023-03-05T16:18:19.166Z"
   },
   {
    "duration": 17,
    "start_time": "2023-03-05T16:18:19.199Z"
   },
   {
    "duration": 4,
    "start_time": "2023-03-05T16:18:19.218Z"
   },
   {
    "duration": 14,
    "start_time": "2023-03-05T16:18:19.241Z"
   },
   {
    "duration": 17,
    "start_time": "2023-03-05T16:18:19.260Z"
   },
   {
    "duration": 11,
    "start_time": "2023-03-05T16:18:19.282Z"
   },
   {
    "duration": 787,
    "start_time": "2023-03-05T16:18:19.295Z"
   },
   {
    "duration": 390,
    "start_time": "2023-03-05T16:18:20.084Z"
   },
   {
    "duration": 298,
    "start_time": "2023-03-05T16:18:20.476Z"
   },
   {
    "duration": 4,
    "start_time": "2023-03-05T16:18:20.777Z"
   },
   {
    "duration": 23,
    "start_time": "2023-03-05T16:18:20.782Z"
   },
   {
    "duration": 49,
    "start_time": "2023-03-05T16:18:20.806Z"
   },
   {
    "duration": 11,
    "start_time": "2023-03-05T16:18:20.857Z"
   },
   {
    "duration": 17,
    "start_time": "2023-03-05T16:18:20.870Z"
   },
   {
    "duration": 7,
    "start_time": "2023-03-05T16:18:20.889Z"
   },
   {
    "duration": 43,
    "start_time": "2023-03-05T16:18:20.898Z"
   },
   {
    "duration": 9,
    "start_time": "2023-03-05T16:18:20.944Z"
   },
   {
    "duration": 17,
    "start_time": "2023-03-05T16:18:20.955Z"
   },
   {
    "duration": 17,
    "start_time": "2023-03-05T16:18:20.974Z"
   },
   {
    "duration": 50,
    "start_time": "2023-03-05T16:18:20.993Z"
   },
   {
    "duration": 29,
    "start_time": "2023-03-05T16:18:21.045Z"
   },
   {
    "duration": 15,
    "start_time": "2023-03-05T16:18:21.142Z"
   },
   {
    "duration": 5,
    "start_time": "2023-03-05T16:18:21.240Z"
   },
   {
    "duration": 5,
    "start_time": "2023-03-05T16:18:21.248Z"
   },
   {
    "duration": 6,
    "start_time": "2023-03-05T16:18:21.255Z"
   },
   {
    "duration": 76262,
    "start_time": "2023-03-05T16:18:21.263Z"
   },
   {
    "duration": 100,
    "start_time": "2023-03-05T16:19:37.528Z"
   },
   {
    "duration": 61,
    "start_time": "2023-03-05T16:19:37.630Z"
   },
   {
    "duration": 13,
    "start_time": "2023-03-05T16:19:37.693Z"
   },
   {
    "duration": 31329,
    "start_time": "2023-03-05T16:19:37.708Z"
   },
   {
    "duration": 12,
    "start_time": "2023-03-05T16:20:09.041Z"
   },
   {
    "duration": 4956,
    "start_time": "2023-03-05T16:20:09.065Z"
   },
   {
    "duration": 12,
    "start_time": "2023-03-05T16:20:14.024Z"
   },
   {
    "duration": 95,
    "start_time": "2023-03-05T16:20:14.038Z"
   },
   {
    "duration": 40,
    "start_time": "2023-03-05T16:20:14.136Z"
   },
   {
    "duration": 13,
    "start_time": "2023-03-05T16:20:14.178Z"
   },
   {
    "duration": 67,
    "start_time": "2023-03-05T16:20:14.193Z"
   },
   {
    "duration": 43,
    "start_time": "2023-03-05T16:20:14.262Z"
   },
   {
    "duration": 5511,
    "start_time": "2023-03-05T16:38:34.979Z"
   },
   {
    "duration": 3407,
    "start_time": "2023-03-05T16:38:40.494Z"
   },
   {
    "duration": 1864,
    "start_time": "2023-03-05T16:38:43.910Z"
   },
   {
    "duration": 4,
    "start_time": "2023-03-05T16:38:45.776Z"
   },
   {
    "duration": 186,
    "start_time": "2023-03-05T16:38:45.784Z"
   },
   {
    "duration": 31,
    "start_time": "2023-03-05T16:38:45.973Z"
   },
   {
    "duration": 19,
    "start_time": "2023-03-05T16:38:46.008Z"
   },
   {
    "duration": 16,
    "start_time": "2023-03-05T16:38:46.041Z"
   },
   {
    "duration": 14,
    "start_time": "2023-03-05T16:38:46.067Z"
   },
   {
    "duration": 21,
    "start_time": "2023-03-05T16:38:46.087Z"
   },
   {
    "duration": 13,
    "start_time": "2023-03-05T16:38:46.111Z"
   },
   {
    "duration": 889,
    "start_time": "2023-03-05T16:38:46.127Z"
   },
   {
    "duration": 394,
    "start_time": "2023-03-05T16:38:47.018Z"
   },
   {
    "duration": 316,
    "start_time": "2023-03-05T16:38:47.416Z"
   },
   {
    "duration": 13,
    "start_time": "2023-03-05T16:38:47.738Z"
   },
   {
    "duration": 49,
    "start_time": "2023-03-05T16:38:47.757Z"
   },
   {
    "duration": 66,
    "start_time": "2023-03-05T16:38:47.812Z"
   },
   {
    "duration": 28,
    "start_time": "2023-03-05T16:38:47.884Z"
   },
   {
    "duration": 37,
    "start_time": "2023-03-05T16:38:47.923Z"
   },
   {
    "duration": 23,
    "start_time": "2023-03-05T16:38:47.964Z"
   },
   {
    "duration": 23,
    "start_time": "2023-03-05T16:38:47.993Z"
   },
   {
    "duration": 11,
    "start_time": "2023-03-05T16:38:48.020Z"
   },
   {
    "duration": 9,
    "start_time": "2023-03-05T16:38:48.034Z"
   },
   {
    "duration": 10,
    "start_time": "2023-03-05T16:38:48.048Z"
   },
   {
    "duration": 25,
    "start_time": "2023-03-05T16:38:48.064Z"
   },
   {
    "duration": 257,
    "start_time": "2023-03-05T16:38:48.095Z"
   },
   {
    "duration": 16,
    "start_time": "2023-03-05T16:38:48.357Z"
   },
   {
    "duration": 26,
    "start_time": "2023-03-05T16:38:48.379Z"
   },
   {
    "duration": 6,
    "start_time": "2023-03-05T16:38:48.409Z"
   },
   {
    "duration": 29,
    "start_time": "2023-03-05T16:38:48.417Z"
   },
   {
    "duration": 77641,
    "start_time": "2023-03-05T16:38:48.448Z"
   },
   {
    "duration": 114,
    "start_time": "2023-03-05T16:40:06.095Z"
   },
   {
    "duration": 72,
    "start_time": "2023-03-05T16:40:06.211Z"
   },
   {
    "duration": 16,
    "start_time": "2023-03-05T16:40:06.285Z"
   },
   {
    "duration": 33900,
    "start_time": "2023-03-05T16:40:06.303Z"
   },
   {
    "duration": 5,
    "start_time": "2023-03-05T16:40:40.205Z"
   },
   {
    "duration": 4197,
    "start_time": "2023-03-05T16:40:40.212Z"
   },
   {
    "duration": 14,
    "start_time": "2023-03-05T16:40:44.411Z"
   },
   {
    "duration": 62,
    "start_time": "2023-03-05T16:40:44.427Z"
   },
   {
    "duration": 4,
    "start_time": "2023-03-05T16:40:44.492Z"
   },
   {
    "duration": 51,
    "start_time": "2023-03-05T16:40:44.502Z"
   },
   {
    "duration": 3,
    "start_time": "2023-03-05T16:40:44.555Z"
   },
   {
    "duration": 6,
    "start_time": "2023-03-05T16:40:44.561Z"
   },
   {
    "duration": 356889,
    "start_time": "2023-03-05T16:40:44.570Z"
   },
   {
    "duration": 304785,
    "start_time": "2023-03-05T16:46:41.463Z"
   },
   {
    "duration": 96,
    "start_time": "2023-03-05T16:51:46.251Z"
   },
   {
    "duration": 91,
    "start_time": "2023-03-05T16:51:46.349Z"
   },
   {
    "duration": 3,
    "start_time": "2023-03-05T16:51:46.443Z"
   },
   {
    "duration": 371,
    "start_time": "2023-03-05T16:51:46.448Z"
   },
   {
    "duration": 4612,
    "start_time": "2023-03-05T18:55:43.979Z"
   },
   {
    "duration": 6602,
    "start_time": "2023-03-05T18:55:48.594Z"
   },
   {
    "duration": 1613,
    "start_time": "2023-03-05T18:55:55.198Z"
   },
   {
    "duration": 3,
    "start_time": "2023-03-05T18:55:56.814Z"
   },
   {
    "duration": 333,
    "start_time": "2023-03-05T18:55:56.818Z"
   },
   {
    "duration": 21,
    "start_time": "2023-03-05T18:55:57.153Z"
   },
   {
    "duration": 14,
    "start_time": "2023-03-05T18:55:57.176Z"
   },
   {
    "duration": 3,
    "start_time": "2023-03-05T18:55:57.192Z"
   },
   {
    "duration": 12,
    "start_time": "2023-03-05T18:55:57.197Z"
   },
   {
    "duration": 10,
    "start_time": "2023-03-05T18:55:57.211Z"
   },
   {
    "duration": 13,
    "start_time": "2023-03-05T18:55:57.254Z"
   },
   {
    "duration": 735,
    "start_time": "2023-03-05T18:55:57.269Z"
   },
   {
    "duration": 377,
    "start_time": "2023-03-05T18:55:58.006Z"
   },
   {
    "duration": 281,
    "start_time": "2023-03-05T18:55:58.384Z"
   },
   {
    "duration": 5,
    "start_time": "2023-03-05T18:55:58.668Z"
   },
   {
    "duration": 27,
    "start_time": "2023-03-05T18:55:58.675Z"
   },
   {
    "duration": 27,
    "start_time": "2023-03-05T18:55:58.704Z"
   },
   {
    "duration": 37,
    "start_time": "2023-03-05T18:55:58.733Z"
   },
   {
    "duration": 13,
    "start_time": "2023-03-05T18:55:58.772Z"
   },
   {
    "duration": 8,
    "start_time": "2023-03-05T18:55:58.786Z"
   },
   {
    "duration": 11,
    "start_time": "2023-03-05T18:55:58.795Z"
   },
   {
    "duration": 8,
    "start_time": "2023-03-05T18:55:58.807Z"
   },
   {
    "duration": 5,
    "start_time": "2023-03-05T18:55:58.817Z"
   },
   {
    "duration": 5,
    "start_time": "2023-03-05T18:55:58.823Z"
   },
   {
    "duration": 16,
    "start_time": "2023-03-05T18:55:58.863Z"
   },
   {
    "duration": 86,
    "start_time": "2023-03-05T18:55:58.881Z"
   },
   {
    "duration": 84,
    "start_time": "2023-03-05T18:55:58.969Z"
   },
   {
    "duration": 12,
    "start_time": "2023-03-05T18:55:59.058Z"
   },
   {
    "duration": 4,
    "start_time": "2023-03-05T18:55:59.072Z"
   },
   {
    "duration": 7,
    "start_time": "2023-03-05T18:55:59.078Z"
   },
   {
    "duration": 67123,
    "start_time": "2023-03-05T18:55:59.087Z"
   },
   {
    "duration": 96,
    "start_time": "2023-03-05T18:57:06.212Z"
   },
   {
    "duration": 53,
    "start_time": "2023-03-05T18:57:06.310Z"
   },
   {
    "duration": 12,
    "start_time": "2023-03-05T18:57:06.369Z"
   },
   {
    "duration": 25551,
    "start_time": "2023-03-05T18:57:06.383Z"
   },
   {
    "duration": 4,
    "start_time": "2023-03-05T18:57:31.935Z"
   },
   {
    "duration": 3671,
    "start_time": "2023-03-05T18:57:31.940Z"
   },
   {
    "duration": 10,
    "start_time": "2023-03-05T18:57:35.613Z"
   },
   {
    "duration": 54,
    "start_time": "2023-03-05T18:57:35.624Z"
   },
   {
    "duration": 3,
    "start_time": "2023-03-05T18:57:35.680Z"
   },
   {
    "duration": 22,
    "start_time": "2023-03-05T18:57:35.685Z"
   },
   {
    "duration": 2,
    "start_time": "2023-03-05T18:57:35.709Z"
   },
   {
    "duration": 17,
    "start_time": "2023-03-05T18:57:35.713Z"
   },
   {
    "duration": 198138,
    "start_time": "2023-03-05T18:57:35.732Z"
   },
   {
    "duration": 226,
    "start_time": "2023-03-05T19:00:53.872Z"
   },
   {
    "duration": 13,
    "start_time": "2023-03-05T19:00:54.100Z"
   },
   {
    "duration": 0,
    "start_time": "2023-03-05T19:00:54.116Z"
   },
   {
    "duration": 0,
    "start_time": "2023-03-05T19:00:54.117Z"
   },
   {
    "duration": 0,
    "start_time": "2023-03-05T19:00:54.119Z"
   },
   {
    "duration": 293697,
    "start_time": "2023-03-05T19:01:43.771Z"
   },
   {
    "duration": 111,
    "start_time": "2023-03-05T19:06:37.470Z"
   },
   {
    "duration": 71,
    "start_time": "2023-03-05T19:06:37.583Z"
   },
   {
    "duration": 6,
    "start_time": "2023-03-05T19:06:37.656Z"
   },
   {
    "duration": 411,
    "start_time": "2023-03-05T19:06:37.664Z"
   },
   {
    "duration": 4519,
    "start_time": "2023-03-06T05:02:48.014Z"
   },
   {
    "duration": 5928,
    "start_time": "2023-03-06T05:02:52.535Z"
   },
   {
    "duration": 1330,
    "start_time": "2023-03-06T05:02:58.465Z"
   },
   {
    "duration": 2,
    "start_time": "2023-03-06T05:02:59.797Z"
   },
   {
    "duration": 132,
    "start_time": "2023-03-06T05:02:59.801Z"
   },
   {
    "duration": 12,
    "start_time": "2023-03-06T05:02:59.935Z"
   },
   {
    "duration": 31,
    "start_time": "2023-03-06T05:02:59.956Z"
   },
   {
    "duration": 3,
    "start_time": "2023-03-06T05:02:59.989Z"
   },
   {
    "duration": 11,
    "start_time": "2023-03-06T05:02:59.994Z"
   },
   {
    "duration": 28,
    "start_time": "2023-03-06T05:03:00.007Z"
   },
   {
    "duration": 9,
    "start_time": "2023-03-06T05:03:00.037Z"
   },
   {
    "duration": 758,
    "start_time": "2023-03-06T05:03:00.048Z"
   },
   {
    "duration": 381,
    "start_time": "2023-03-06T05:03:00.808Z"
   },
   {
    "duration": 315,
    "start_time": "2023-03-06T05:03:01.190Z"
   },
   {
    "duration": 4,
    "start_time": "2023-03-06T05:03:01.507Z"
   },
   {
    "duration": 83,
    "start_time": "2023-03-06T05:03:01.512Z"
   },
   {
    "duration": 75,
    "start_time": "2023-03-06T05:03:01.597Z"
   },
   {
    "duration": 60,
    "start_time": "2023-03-06T05:03:01.676Z"
   },
   {
    "duration": 52,
    "start_time": "2023-03-06T05:03:01.737Z"
   },
   {
    "duration": 29,
    "start_time": "2023-03-06T05:03:01.791Z"
   },
   {
    "duration": 34,
    "start_time": "2023-03-06T05:03:01.822Z"
   },
   {
    "duration": 44,
    "start_time": "2023-03-06T05:03:01.858Z"
   },
   {
    "duration": 31,
    "start_time": "2023-03-06T05:03:01.904Z"
   },
   {
    "duration": 55,
    "start_time": "2023-03-06T05:03:01.937Z"
   },
   {
    "duration": 24,
    "start_time": "2023-03-06T05:03:01.993Z"
   },
   {
    "duration": 14,
    "start_time": "2023-03-06T05:03:02.019Z"
   },
   {
    "duration": 37,
    "start_time": "2023-03-06T05:03:02.147Z"
   },
   {
    "duration": 31,
    "start_time": "2023-03-06T05:03:02.187Z"
   },
   {
    "duration": 15,
    "start_time": "2023-03-06T05:03:02.219Z"
   },
   {
    "duration": 58,
    "start_time": "2023-03-06T05:03:02.237Z"
   },
   {
    "duration": 61528,
    "start_time": "2023-03-06T05:03:02.297Z"
   },
   {
    "duration": 5435,
    "start_time": "2023-03-06T05:04:03.828Z"
   },
   {
    "duration": 74,
    "start_time": "2023-03-06T05:04:09.264Z"
   },
   {
    "duration": 52,
    "start_time": "2023-03-06T05:04:09.339Z"
   },
   {
    "duration": 4,
    "start_time": "2023-03-06T05:05:10.108Z"
   },
   {
    "duration": 14,
    "start_time": "2023-03-06T05:05:10.114Z"
   },
   {
    "duration": 99,
    "start_time": "2023-03-06T05:05:10.130Z"
   },
   {
    "duration": 11,
    "start_time": "2023-03-06T05:05:10.230Z"
   },
   {
    "duration": 53,
    "start_time": "2023-03-06T05:05:10.243Z"
   },
   {
    "duration": 6,
    "start_time": "2023-03-06T05:05:10.297Z"
   },
   {
    "duration": 10,
    "start_time": "2023-03-06T05:05:10.305Z"
   },
   {
    "duration": 11,
    "start_time": "2023-03-06T05:05:10.317Z"
   },
   {
    "duration": 13,
    "start_time": "2023-03-06T05:05:10.330Z"
   },
   {
    "duration": 724,
    "start_time": "2023-03-06T05:05:10.345Z"
   },
   {
    "duration": 225,
    "start_time": "2023-03-06T05:05:11.072Z"
   },
   {
    "duration": 295,
    "start_time": "2023-03-06T05:05:11.299Z"
   },
   {
    "duration": 4,
    "start_time": "2023-03-06T05:05:11.595Z"
   },
   {
    "duration": 28,
    "start_time": "2023-03-06T05:05:11.600Z"
   },
   {
    "duration": 47,
    "start_time": "2023-03-06T05:05:11.629Z"
   },
   {
    "duration": 14,
    "start_time": "2023-03-06T05:05:11.678Z"
   },
   {
    "duration": 16,
    "start_time": "2023-03-06T05:05:11.695Z"
   },
   {
    "duration": 8,
    "start_time": "2023-03-06T05:05:11.714Z"
   },
   {
    "duration": 31,
    "start_time": "2023-03-06T05:05:11.723Z"
   },
   {
    "duration": 6,
    "start_time": "2023-03-06T05:05:11.755Z"
   },
   {
    "duration": 25,
    "start_time": "2023-03-06T05:05:11.763Z"
   },
   {
    "duration": 9,
    "start_time": "2023-03-06T05:05:11.789Z"
   },
   {
    "duration": 18,
    "start_time": "2023-03-06T05:05:11.800Z"
   },
   {
    "duration": 57,
    "start_time": "2023-03-06T05:05:11.820Z"
   },
   {
    "duration": 109,
    "start_time": "2023-03-06T05:05:11.880Z"
   },
   {
    "duration": 11,
    "start_time": "2023-03-06T05:05:11.991Z"
   },
   {
    "duration": 6,
    "start_time": "2023-03-06T05:05:12.004Z"
   },
   {
    "duration": 40,
    "start_time": "2023-03-06T05:05:12.013Z"
   },
   {
    "duration": 69527,
    "start_time": "2023-03-06T05:05:12.056Z"
   },
   {
    "duration": 78,
    "start_time": "2023-03-06T05:06:21.585Z"
   },
   {
    "duration": 42,
    "start_time": "2023-03-06T05:06:21.665Z"
   },
   {
    "duration": 1361,
    "start_time": "2023-10-09T16:17:37.385Z"
   },
   {
    "duration": 3,
    "start_time": "2023-10-09T16:17:50.316Z"
   },
   {
    "duration": 123,
    "start_time": "2023-10-09T16:17:51.671Z"
   },
   {
    "duration": 14,
    "start_time": "2023-10-09T16:17:53.961Z"
   },
   {
    "duration": 8,
    "start_time": "2023-10-09T16:18:17.935Z"
   },
   {
    "duration": 9,
    "start_time": "2023-10-09T16:35:16.027Z"
   },
   {
    "duration": 9,
    "start_time": "2023-10-09T16:35:18.292Z"
   },
   {
    "duration": 3,
    "start_time": "2023-10-09T16:35:28.280Z"
   },
   {
    "duration": 8,
    "start_time": "2023-10-09T16:35:41.405Z"
   },
   {
    "duration": 10,
    "start_time": "2023-10-09T16:35:49.153Z"
   },
   {
    "duration": 8,
    "start_time": "2023-10-09T16:36:10.439Z"
   }
  ],
  "kernelspec": {
   "display_name": "Python 3 (ipykernel)",
   "language": "python",
   "name": "python3"
  },
  "language_info": {
   "codemirror_mode": {
    "name": "ipython",
    "version": 3
   },
   "file_extension": ".py",
   "mimetype": "text/x-python",
   "name": "python",
   "nbconvert_exporter": "python",
   "pygments_lexer": "ipython3",
   "version": "3.9.16"
  },
  "toc": {
   "base_numbering": 1,
   "nav_menu": {},
   "number_sections": true,
   "sideBar": true,
   "skip_h1_title": true,
   "title_cell": "Содержание",
   "title_sidebar": "Contents",
   "toc_cell": true,
   "toc_position": {
    "height": "calc(100% - 180px)",
    "left": "10px",
    "top": "150px",
    "width": "265.188px"
   },
   "toc_section_display": true,
   "toc_window_display": true
  }
 },
 "nbformat": 4,
 "nbformat_minor": 2
}
